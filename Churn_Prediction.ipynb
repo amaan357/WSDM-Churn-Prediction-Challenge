{
 "cells": [
  {
   "cell_type": "code",
   "execution_count": 142,
   "metadata": {},
   "outputs": [],
   "source": [
    "#Scikitlearn libraries\n",
    "from sklearn.preprocessing import MinMaxScaler\n",
    "from sklearn import metrics\n",
    "from sklearn.ensemble import RandomForestClassifier\n",
    "from sklearn.cross_validation import train_test_split\n",
    "from sklearn.metrics import classification_report,confusion_matrix \n",
    "from sklearn import preprocessing\n",
    "from sklearn.preprocessing import StandardScaler\n",
    "from sklearn import svm \n",
    "from sklearn import neighbors \n",
    "from sklearn.model_selection import cross_val_score \n",
    "from sklearn import model_selection\n",
    "from sklearn.metrics import roc_curve\n",
    "from sklearn.metrics import auc\n",
    "\n",
    "import numpy as np \n",
    "import pandas as pd \n",
    "import seaborn as sns\n",
    "\n",
    "from scipy import stats\n",
    "\n",
    "import xgboost as xgb\n",
    "\n",
    "from collections import Counter\n",
    "\n",
    "%matplotlib inline\n",
    "import matplotlib.pyplot as plt\n",
    "from pylab import hist, show, xticks,yticks\n",
    "from matplotlib import pyplot\n",
    "import matplotlib.ticker as ticker\n"
   ]
  },
  {
   "cell_type": "markdown",
   "metadata": {},
   "source": [
    "## DATA EXPLORATION"
   ]
  },
  {
   "cell_type": "markdown",
   "metadata": {},
   "source": [
    "#### Retrieve Train data into dataframe"
   ]
  },
  {
   "cell_type": "code",
   "execution_count": 143,
   "metadata": {},
   "outputs": [],
   "source": [
    "df_train = pd.read_csv('C:/Users/ajayc/Desktop/ACN/2_Spring2018/ML/Project/WSDM/DATA/train.csv', dtype={'is_churn' : np.int8})"
   ]
  },
  {
   "cell_type": "code",
   "execution_count": 144,
   "metadata": {},
   "outputs": [
    {
     "data": {
      "text/html": [
       "<div>\n",
       "<style scoped>\n",
       "    .dataframe tbody tr th:only-of-type {\n",
       "        vertical-align: middle;\n",
       "    }\n",
       "\n",
       "    .dataframe tbody tr th {\n",
       "        vertical-align: top;\n",
       "    }\n",
       "\n",
       "    .dataframe thead th {\n",
       "        text-align: right;\n",
       "    }\n",
       "</style>\n",
       "<table border=\"1\" class=\"dataframe\">\n",
       "  <thead>\n",
       "    <tr style=\"text-align: right;\">\n",
       "      <th></th>\n",
       "      <th>msno</th>\n",
       "      <th>is_churn</th>\n",
       "    </tr>\n",
       "  </thead>\n",
       "  <tbody>\n",
       "    <tr>\n",
       "      <th>0</th>\n",
       "      <td>waLDQMmcOu2jLDaV1ddDkgCrB/jl6sD66Xzs0Vqax1Y=</td>\n",
       "      <td>1</td>\n",
       "    </tr>\n",
       "    <tr>\n",
       "      <th>1</th>\n",
       "      <td>QA7uiXy8vIbUSPOkCf9RwQ3FsT8jVq2OxDr8zqa7bRQ=</td>\n",
       "      <td>1</td>\n",
       "    </tr>\n",
       "    <tr>\n",
       "      <th>2</th>\n",
       "      <td>fGwBva6hikQmTJzrbz/2Ezjm5Cth5jZUNvXigKK2AFA=</td>\n",
       "      <td>1</td>\n",
       "    </tr>\n",
       "    <tr>\n",
       "      <th>3</th>\n",
       "      <td>mT5V8rEpa+8wuqi6x0DoVd3H5icMKkE9Prt49UlmK+4=</td>\n",
       "      <td>1</td>\n",
       "    </tr>\n",
       "    <tr>\n",
       "      <th>4</th>\n",
       "      <td>XaPhtGLk/5UvvOYHcONTwsnH97P4eGECeq+BARGItRw=</td>\n",
       "      <td>1</td>\n",
       "    </tr>\n",
       "  </tbody>\n",
       "</table>\n",
       "</div>"
      ],
      "text/plain": [
       "                                           msno  is_churn\n",
       "0  waLDQMmcOu2jLDaV1ddDkgCrB/jl6sD66Xzs0Vqax1Y=         1\n",
       "1  QA7uiXy8vIbUSPOkCf9RwQ3FsT8jVq2OxDr8zqa7bRQ=         1\n",
       "2  fGwBva6hikQmTJzrbz/2Ezjm5Cth5jZUNvXigKK2AFA=         1\n",
       "3  mT5V8rEpa+8wuqi6x0DoVd3H5icMKkE9Prt49UlmK+4=         1\n",
       "4  XaPhtGLk/5UvvOYHcONTwsnH97P4eGECeq+BARGItRw=         1"
      ]
     },
     "execution_count": 144,
     "metadata": {},
     "output_type": "execute_result"
    }
   ],
   "source": [
    "df_train.head()"
   ]
  },
  {
   "cell_type": "markdown",
   "metadata": {},
   "source": [
    "#### Reading Test and members data"
   ]
  },
  {
   "cell_type": "code",
   "execution_count": 145,
   "metadata": {},
   "outputs": [],
   "source": [
    "df_test = pd.read_csv(\"C:/Users/ajayc/Desktop/ACN/2_Spring2018/ML/Project/WSDM/DATA/sample_submission_v2.csv\")"
   ]
  },
  {
   "cell_type": "code",
   "execution_count": 146,
   "metadata": {},
   "outputs": [],
   "source": [
    "df_members = pd.read_csv('C:/Users/ajayc/Desktop/ACN/2_Spring2018/ML/Project/WSDM/DATA/members_v3.csv', parse_dates=['registration_init_time'], dtype={'city': np.int8, 'bd': np.int16, 'registered_via': np.int8})"
   ]
  },
  {
   "cell_type": "code",
   "execution_count": 147,
   "metadata": {},
   "outputs": [
    {
     "data": {
      "text/html": [
       "<div>\n",
       "<style scoped>\n",
       "    .dataframe tbody tr th:only-of-type {\n",
       "        vertical-align: middle;\n",
       "    }\n",
       "\n",
       "    .dataframe tbody tr th {\n",
       "        vertical-align: top;\n",
       "    }\n",
       "\n",
       "    .dataframe thead th {\n",
       "        text-align: right;\n",
       "    }\n",
       "</style>\n",
       "<table border=\"1\" class=\"dataframe\">\n",
       "  <thead>\n",
       "    <tr style=\"text-align: right;\">\n",
       "      <th></th>\n",
       "      <th>msno</th>\n",
       "      <th>city</th>\n",
       "      <th>bd</th>\n",
       "      <th>gender</th>\n",
       "      <th>registered_via</th>\n",
       "      <th>registration_init_time</th>\n",
       "    </tr>\n",
       "  </thead>\n",
       "  <tbody>\n",
       "    <tr>\n",
       "      <th>0</th>\n",
       "      <td>Rb9UwLQTrxzBVwCB6+bCcSQWZ9JiNLC9dXtM1oEsZA8=</td>\n",
       "      <td>1</td>\n",
       "      <td>0</td>\n",
       "      <td>NaN</td>\n",
       "      <td>11</td>\n",
       "      <td>2011-09-11</td>\n",
       "    </tr>\n",
       "    <tr>\n",
       "      <th>1</th>\n",
       "      <td>+tJonkh+O1CA796Fm5X60UMOtB6POHAwPjbTRVl/EuU=</td>\n",
       "      <td>1</td>\n",
       "      <td>0</td>\n",
       "      <td>NaN</td>\n",
       "      <td>7</td>\n",
       "      <td>2011-09-14</td>\n",
       "    </tr>\n",
       "    <tr>\n",
       "      <th>2</th>\n",
       "      <td>cV358ssn7a0f7jZOwGNWS07wCKVqxyiImJUX6xcIwKw=</td>\n",
       "      <td>1</td>\n",
       "      <td>0</td>\n",
       "      <td>NaN</td>\n",
       "      <td>11</td>\n",
       "      <td>2011-09-15</td>\n",
       "    </tr>\n",
       "    <tr>\n",
       "      <th>3</th>\n",
       "      <td>9bzDeJP6sQodK73K5CBlJ6fgIQzPeLnRl0p5B77XP+g=</td>\n",
       "      <td>1</td>\n",
       "      <td>0</td>\n",
       "      <td>NaN</td>\n",
       "      <td>11</td>\n",
       "      <td>2011-09-15</td>\n",
       "    </tr>\n",
       "    <tr>\n",
       "      <th>4</th>\n",
       "      <td>WFLY3s7z4EZsieHCt63XrsdtfTEmJ+2PnnKLH5GY4Tk=</td>\n",
       "      <td>6</td>\n",
       "      <td>32</td>\n",
       "      <td>female</td>\n",
       "      <td>9</td>\n",
       "      <td>2011-09-15</td>\n",
       "    </tr>\n",
       "  </tbody>\n",
       "</table>\n",
       "</div>"
      ],
      "text/plain": [
       "                                           msno  city  bd  gender  \\\n",
       "0  Rb9UwLQTrxzBVwCB6+bCcSQWZ9JiNLC9dXtM1oEsZA8=     1   0     NaN   \n",
       "1  +tJonkh+O1CA796Fm5X60UMOtB6POHAwPjbTRVl/EuU=     1   0     NaN   \n",
       "2  cV358ssn7a0f7jZOwGNWS07wCKVqxyiImJUX6xcIwKw=     1   0     NaN   \n",
       "3  9bzDeJP6sQodK73K5CBlJ6fgIQzPeLnRl0p5B77XP+g=     1   0     NaN   \n",
       "4  WFLY3s7z4EZsieHCt63XrsdtfTEmJ+2PnnKLH5GY4Tk=     6  32  female   \n",
       "\n",
       "   registered_via registration_init_time  \n",
       "0              11             2011-09-11  \n",
       "1               7             2011-09-14  \n",
       "2              11             2011-09-15  \n",
       "3              11             2011-09-15  \n",
       "4               9             2011-09-15  "
      ]
     },
     "execution_count": 147,
     "metadata": {},
     "output_type": "execute_result"
    }
   ],
   "source": [
    "df_members.head()"
   ]
  },
  {
   "cell_type": "markdown",
   "metadata": {},
   "source": [
    "#### Merging the two train csv files into one"
   ]
  },
  {
   "cell_type": "code",
   "execution_count": 148,
   "metadata": {},
   "outputs": [],
   "source": [
    "#Merging the second train file with train dataframe in the dictionary\n",
    "df_train = pd.concat((df_train, pd.read_csv('C:/Users/ajayc/Desktop/ACN/2_Spring2018/ML/Project/WSDM/DATA/train_v2.csv',dtype={'is_churn' : np.int8} )), axis=0, ignore_index=True).reset_index(drop=True)"
   ]
  },
  {
   "cell_type": "code",
   "execution_count": 149,
   "metadata": {},
   "outputs": [
    {
     "data": {
      "text/html": [
       "<div>\n",
       "<style scoped>\n",
       "    .dataframe tbody tr th:only-of-type {\n",
       "        vertical-align: middle;\n",
       "    }\n",
       "\n",
       "    .dataframe tbody tr th {\n",
       "        vertical-align: top;\n",
       "    }\n",
       "\n",
       "    .dataframe thead th {\n",
       "        text-align: right;\n",
       "    }\n",
       "</style>\n",
       "<table border=\"1\" class=\"dataframe\">\n",
       "  <thead>\n",
       "    <tr style=\"text-align: right;\">\n",
       "      <th></th>\n",
       "      <th>msno</th>\n",
       "      <th>is_churn</th>\n",
       "    </tr>\n",
       "  </thead>\n",
       "  <tbody>\n",
       "    <tr>\n",
       "      <th>0</th>\n",
       "      <td>waLDQMmcOu2jLDaV1ddDkgCrB/jl6sD66Xzs0Vqax1Y=</td>\n",
       "      <td>1</td>\n",
       "    </tr>\n",
       "    <tr>\n",
       "      <th>1</th>\n",
       "      <td>QA7uiXy8vIbUSPOkCf9RwQ3FsT8jVq2OxDr8zqa7bRQ=</td>\n",
       "      <td>1</td>\n",
       "    </tr>\n",
       "    <tr>\n",
       "      <th>2</th>\n",
       "      <td>fGwBva6hikQmTJzrbz/2Ezjm5Cth5jZUNvXigKK2AFA=</td>\n",
       "      <td>1</td>\n",
       "    </tr>\n",
       "    <tr>\n",
       "      <th>3</th>\n",
       "      <td>mT5V8rEpa+8wuqi6x0DoVd3H5icMKkE9Prt49UlmK+4=</td>\n",
       "      <td>1</td>\n",
       "    </tr>\n",
       "    <tr>\n",
       "      <th>4</th>\n",
       "      <td>XaPhtGLk/5UvvOYHcONTwsnH97P4eGECeq+BARGItRw=</td>\n",
       "      <td>1</td>\n",
       "    </tr>\n",
       "  </tbody>\n",
       "</table>\n",
       "</div>"
      ],
      "text/plain": [
       "                                           msno  is_churn\n",
       "0  waLDQMmcOu2jLDaV1ddDkgCrB/jl6sD66Xzs0Vqax1Y=         1\n",
       "1  QA7uiXy8vIbUSPOkCf9RwQ3FsT8jVq2OxDr8zqa7bRQ=         1\n",
       "2  fGwBva6hikQmTJzrbz/2Ezjm5Cth5jZUNvXigKK2AFA=         1\n",
       "3  mT5V8rEpa+8wuqi6x0DoVd3H5icMKkE9Prt49UlmK+4=         1\n",
       "4  XaPhtGLk/5UvvOYHcONTwsnH97P4eGECeq+BARGItRw=         1"
      ]
     },
     "execution_count": 149,
     "metadata": {},
     "output_type": "execute_result"
    }
   ],
   "source": [
    "df_train.head()"
   ]
  },
  {
   "cell_type": "markdown",
   "metadata": {},
   "source": [
    "#### Uploading and merging the two transaction files"
   ]
  },
  {
   "cell_type": "code",
   "execution_count": 150,
   "metadata": {},
   "outputs": [],
   "source": [
    "df_transactions = pd.read_csv('C:/Users/ajayc/Desktop/ACN/2_Spring2018/ML/Project/WSDM/DATA/transactions.csv', parse_dates=['transaction_date','membership_expire_date'], dtype={'payment_method_id': np.int8, 'payment_plan_days': np.int16, 'plan_list_price': np.int16, 'actual_amount_paid': np.int16, 'is_auto_renew': np.int8, 'is_cancel': np.int8})\n",
    "df_transactions= pd.concat((df_transactions, pd.read_csv('C:/Users/ajayc/Desktop/ACN/2_Spring2018/ML/Project/WSDM/DATA/transactions_v2.csv', parse_dates=['transaction_date','membership_expire_date'], dtype={'payment_method_id': np.int8, 'payment_plan_days': np.int16, 'plan_list_price': np.int16, 'actual_amount_paid': np.int16, 'is_auto_renew': np.int8, 'is_cancel': np.int8} )), axis=0, ignore_index=True).reset_index(drop=True)"
   ]
  },
  {
   "cell_type": "code",
   "execution_count": 151,
   "metadata": {},
   "outputs": [
    {
     "data": {
      "text/html": [
       "<div>\n",
       "<style scoped>\n",
       "    .dataframe tbody tr th:only-of-type {\n",
       "        vertical-align: middle;\n",
       "    }\n",
       "\n",
       "    .dataframe tbody tr th {\n",
       "        vertical-align: top;\n",
       "    }\n",
       "\n",
       "    .dataframe thead th {\n",
       "        text-align: right;\n",
       "    }\n",
       "</style>\n",
       "<table border=\"1\" class=\"dataframe\">\n",
       "  <thead>\n",
       "    <tr style=\"text-align: right;\">\n",
       "      <th></th>\n",
       "      <th>msno</th>\n",
       "      <th>payment_method_id</th>\n",
       "      <th>payment_plan_days</th>\n",
       "      <th>plan_list_price</th>\n",
       "      <th>actual_amount_paid</th>\n",
       "      <th>is_auto_renew</th>\n",
       "      <th>transaction_date</th>\n",
       "      <th>membership_expire_date</th>\n",
       "      <th>is_cancel</th>\n",
       "    </tr>\n",
       "  </thead>\n",
       "  <tbody>\n",
       "    <tr>\n",
       "      <th>0</th>\n",
       "      <td>YyO+tlZtAXYXoZhNr3Vg3+dfVQvrBVGO8j1mfqe4ZHc=</td>\n",
       "      <td>41</td>\n",
       "      <td>30</td>\n",
       "      <td>129</td>\n",
       "      <td>129</td>\n",
       "      <td>1</td>\n",
       "      <td>2015-09-30</td>\n",
       "      <td>2015-11-01</td>\n",
       "      <td>0</td>\n",
       "    </tr>\n",
       "    <tr>\n",
       "      <th>1</th>\n",
       "      <td>AZtu6Wl0gPojrEQYB8Q3vBSmE2wnZ3hi1FbK1rQQ0A4=</td>\n",
       "      <td>41</td>\n",
       "      <td>30</td>\n",
       "      <td>149</td>\n",
       "      <td>149</td>\n",
       "      <td>1</td>\n",
       "      <td>2015-09-30</td>\n",
       "      <td>2015-10-31</td>\n",
       "      <td>0</td>\n",
       "    </tr>\n",
       "    <tr>\n",
       "      <th>2</th>\n",
       "      <td>UkDFI97Qb6+s2LWcijVVv4rMAsORbVDT2wNXF0aVbns=</td>\n",
       "      <td>41</td>\n",
       "      <td>30</td>\n",
       "      <td>129</td>\n",
       "      <td>129</td>\n",
       "      <td>1</td>\n",
       "      <td>2015-09-30</td>\n",
       "      <td>2016-04-27</td>\n",
       "      <td>0</td>\n",
       "    </tr>\n",
       "    <tr>\n",
       "      <th>3</th>\n",
       "      <td>M1C56ijxozNaGD0t2h68PnH2xtx5iO5iR2MVYQB6nBI=</td>\n",
       "      <td>39</td>\n",
       "      <td>30</td>\n",
       "      <td>149</td>\n",
       "      <td>149</td>\n",
       "      <td>1</td>\n",
       "      <td>2015-09-30</td>\n",
       "      <td>2015-11-28</td>\n",
       "      <td>0</td>\n",
       "    </tr>\n",
       "    <tr>\n",
       "      <th>4</th>\n",
       "      <td>yvj6zyBUaqdbUQSrKsrZ+xNDVM62knauSZJzakS9OW4=</td>\n",
       "      <td>39</td>\n",
       "      <td>30</td>\n",
       "      <td>149</td>\n",
       "      <td>149</td>\n",
       "      <td>1</td>\n",
       "      <td>2015-09-30</td>\n",
       "      <td>2015-11-21</td>\n",
       "      <td>0</td>\n",
       "    </tr>\n",
       "  </tbody>\n",
       "</table>\n",
       "</div>"
      ],
      "text/plain": [
       "                                           msno  payment_method_id  \\\n",
       "0  YyO+tlZtAXYXoZhNr3Vg3+dfVQvrBVGO8j1mfqe4ZHc=                 41   \n",
       "1  AZtu6Wl0gPojrEQYB8Q3vBSmE2wnZ3hi1FbK1rQQ0A4=                 41   \n",
       "2  UkDFI97Qb6+s2LWcijVVv4rMAsORbVDT2wNXF0aVbns=                 41   \n",
       "3  M1C56ijxozNaGD0t2h68PnH2xtx5iO5iR2MVYQB6nBI=                 39   \n",
       "4  yvj6zyBUaqdbUQSrKsrZ+xNDVM62knauSZJzakS9OW4=                 39   \n",
       "\n",
       "   payment_plan_days  plan_list_price  actual_amount_paid  is_auto_renew  \\\n",
       "0                 30              129                 129              1   \n",
       "1                 30              149                 149              1   \n",
       "2                 30              129                 129              1   \n",
       "3                 30              149                 149              1   \n",
       "4                 30              149                 149              1   \n",
       "\n",
       "  transaction_date membership_expire_date  is_cancel  \n",
       "0       2015-09-30             2015-11-01          0  \n",
       "1       2015-09-30             2015-10-31          0  \n",
       "2       2015-09-30             2016-04-27          0  \n",
       "3       2015-09-30             2015-11-28          0  \n",
       "4       2015-09-30             2015-11-21          0  "
      ]
     },
     "execution_count": 151,
     "metadata": {},
     "output_type": "execute_result"
    }
   ],
   "source": [
    "df_transactions.head()"
   ]
  },
  {
   "cell_type": "markdown",
   "metadata": {},
   "source": [
    "### Exploratory Data Analysis"
   ]
  },
  {
   "cell_type": "markdown",
   "metadata": {},
   "source": [
    "#### We plot and check the number of users churned, giving us an idea that most of the users churn"
   ]
  },
  {
   "cell_type": "code",
   "execution_count": 152,
   "metadata": {},
   "outputs": [
    {
     "data": {
      "image/png": "[encoded data removed]",
      "text/plain": [
       "<matplotlib.figure.Figure at 0x13c73feb320>"
      ]
     },
     "metadata": {},
     "output_type": "display_data"
    }
   ],
   "source": [
    "df_train.hist(figsize=(5,3),color = 'y')\n",
    "plt.xlabel('is_Churn')\n",
    "plt.ylabel('Count')\n",
    "plt.show()"
   ]
  },
  {
   "cell_type": "markdown",
   "metadata": {},
   "source": [
    "Majority of the users churn, so here we have less data of the users who do not churn"
   ]
  },
  {
   "cell_type": "markdown",
   "metadata": {},
   "source": [
    "#### Gender based distribution of users churning"
   ]
  },
  {
   "cell_type": "code",
   "execution_count": 153,
   "metadata": {},
   "outputs": [],
   "source": [
    "gender = list(df_members['gender'])\n",
    "gender_null=['not given' if x is np.nan else x for x in gender]\n",
    "gender_counts = Counter(gender_null)\n"
   ]
  },
  {
   "cell_type": "code",
   "execution_count": 154,
   "metadata": {},
   "outputs": [
    {
     "data": {
      "text/plain": [
       "Counter({'female': 1144613, 'male': 1195355, 'not given': 4429505})"
      ]
     },
     "execution_count": 154,
     "metadata": {},
     "output_type": "execute_result"
    }
   ],
   "source": [
    "gender_counts"
   ]
  },
  {
   "cell_type": "code",
   "execution_count": 156,
   "metadata": {},
   "outputs": [
    {
     "data": {
      "text/plain": [
       "Text(0,0.5,'count')"
      ]
     },
     "execution_count": 156,
     "metadata": {},
     "output_type": "execute_result"
    },
    {
     "data": {
      "image/png": "[encoded data removed]",
      "text/plain": [
       "<matplotlib.figure.Figure at 0x13d5d8c37b8>"
      ]
     },
     "metadata": {},
     "output_type": "display_data"
    }
   ],
   "source": [
    "#Now we try to visulaize the distribution of churning users based on gender\n",
    "df = pd.DataFrame.from_dict(gender_counts, orient='index')\n",
    "df.plot(kind='bar',color = 'y')\n",
    "pyplot.xlabel('Gender')  \n",
    "pyplot.ylabel('count') "
   ]
  },
  {
   "cell_type": "markdown",
   "metadata": {},
   "source": [
    "Ratio among the gender specifying users is similar"
   ]
  },
  {
   "cell_type": "markdown",
   "metadata": {},
   "source": [
    "### Next, Members features are explored"
   ]
  },
  {
   "cell_type": "code",
   "execution_count": 157,
   "metadata": {},
   "outputs": [
    {
     "data": {
      "image/png": "[encoded data removed]",
      "text/plain": [
       "<matplotlib.figure.Figure at 0x13d5dc1eac8>"
      ]
     },
     "metadata": {},
     "output_type": "display_data"
    }
   ],
   "source": [
    "df_members.hist(figsize=(15,12),color = 'y')\n",
    "plt.show()"
   ]
  },
  {
   "cell_type": "markdown",
   "metadata": {},
   "source": [
    "City '1' has maximum number of users, \n",
    "Registered via 4 method is more popular"
   ]
  },
  {
   "cell_type": "markdown",
   "metadata": {},
   "source": [
    "bd shows negative as we need to do some pre processing on that feature"
   ]
  },
  {
   "cell_type": "markdown",
   "metadata": {},
   "source": [
    "### Now, Transaction features are explored"
   ]
  },
  {
   "cell_type": "code",
   "execution_count": 158,
   "metadata": {},
   "outputs": [
    {
     "data": {
      "image/png": "[encoded data removed]",
      "text/plain": [
       "<matplotlib.figure.Figure at 0x13d619f2a20>"
      ]
     },
     "metadata": {},
     "output_type": "display_data"
    }
   ],
   "source": [
    "df_transactions.hist(figsize=(15,12),color = 'y')\n",
    "plt.show()"
   ]
  },
  {
   "cell_type": "markdown",
   "metadata": {},
   "source": [
    "#### Findings\n",
    "Payment Method 41 is the most popular, \n",
    "Majority users have not cancelled the services also ,\n",
    "Auto renew option is on for majority of users"
   ]
  },
  {
   "cell_type": "code",
   "execution_count": 159,
   "metadata": {},
   "outputs": [
    {
     "data": {
      "text/html": [
       "<div>\n",
       "<style scoped>\n",
       "    .dataframe tbody tr th:only-of-type {\n",
       "        vertical-align: middle;\n",
       "    }\n",
       "\n",
       "    .dataframe tbody tr th {\n",
       "        vertical-align: top;\n",
       "    }\n",
       "\n",
       "    .dataframe thead th {\n",
       "        text-align: right;\n",
       "    }\n",
       "</style>\n",
       "<table border=\"1\" class=\"dataframe\">\n",
       "  <thead>\n",
       "    <tr style=\"text-align: right;\">\n",
       "      <th></th>\n",
       "      <th>msno</th>\n",
       "      <th>city</th>\n",
       "      <th>bd</th>\n",
       "      <th>gender</th>\n",
       "      <th>registered_via</th>\n",
       "      <th>registration_init_time</th>\n",
       "    </tr>\n",
       "  </thead>\n",
       "  <tbody>\n",
       "    <tr>\n",
       "      <th>0</th>\n",
       "      <td>Rb9UwLQTrxzBVwCB6+bCcSQWZ9JiNLC9dXtM1oEsZA8=</td>\n",
       "      <td>1</td>\n",
       "      <td>0</td>\n",
       "      <td>NaN</td>\n",
       "      <td>11</td>\n",
       "      <td>2011-09-11</td>\n",
       "    </tr>\n",
       "    <tr>\n",
       "      <th>1</th>\n",
       "      <td>+tJonkh+O1CA796Fm5X60UMOtB6POHAwPjbTRVl/EuU=</td>\n",
       "      <td>1</td>\n",
       "      <td>0</td>\n",
       "      <td>NaN</td>\n",
       "      <td>7</td>\n",
       "      <td>2011-09-14</td>\n",
       "    </tr>\n",
       "    <tr>\n",
       "      <th>2</th>\n",
       "      <td>cV358ssn7a0f7jZOwGNWS07wCKVqxyiImJUX6xcIwKw=</td>\n",
       "      <td>1</td>\n",
       "      <td>0</td>\n",
       "      <td>NaN</td>\n",
       "      <td>11</td>\n",
       "      <td>2011-09-15</td>\n",
       "    </tr>\n",
       "    <tr>\n",
       "      <th>3</th>\n",
       "      <td>9bzDeJP6sQodK73K5CBlJ6fgIQzPeLnRl0p5B77XP+g=</td>\n",
       "      <td>1</td>\n",
       "      <td>0</td>\n",
       "      <td>NaN</td>\n",
       "      <td>11</td>\n",
       "      <td>2011-09-15</td>\n",
       "    </tr>\n",
       "    <tr>\n",
       "      <th>4</th>\n",
       "      <td>WFLY3s7z4EZsieHCt63XrsdtfTEmJ+2PnnKLH5GY4Tk=</td>\n",
       "      <td>6</td>\n",
       "      <td>32</td>\n",
       "      <td>female</td>\n",
       "      <td>9</td>\n",
       "      <td>2011-09-15</td>\n",
       "    </tr>\n",
       "  </tbody>\n",
       "</table>\n",
       "</div>"
      ],
      "text/plain": [
       "                                           msno  city  bd  gender  \\\n",
       "0  Rb9UwLQTrxzBVwCB6+bCcSQWZ9JiNLC9dXtM1oEsZA8=     1   0     NaN   \n",
       "1  +tJonkh+O1CA796Fm5X60UMOtB6POHAwPjbTRVl/EuU=     1   0     NaN   \n",
       "2  cV358ssn7a0f7jZOwGNWS07wCKVqxyiImJUX6xcIwKw=     1   0     NaN   \n",
       "3  9bzDeJP6sQodK73K5CBlJ6fgIQzPeLnRl0p5B77XP+g=     1   0     NaN   \n",
       "4  WFLY3s7z4EZsieHCt63XrsdtfTEmJ+2PnnKLH5GY4Tk=     6  32  female   \n",
       "\n",
       "   registered_via registration_init_time  \n",
       "0              11             2011-09-11  \n",
       "1               7             2011-09-14  \n",
       "2              11             2011-09-15  \n",
       "3              11             2011-09-15  \n",
       "4               9             2011-09-15  "
      ]
     },
     "execution_count": 159,
     "metadata": {},
     "output_type": "execute_result"
    }
   ],
   "source": [
    "df_members.head()"
   ]
  },
  {
   "cell_type": "code",
   "execution_count": 160,
   "metadata": {},
   "outputs": [
    {
     "name": "stdout",
     "output_type": "stream",
     "text": [
      "<class 'pandas.core.frame.DataFrame'>\n",
      "RangeIndex: 6769473 entries, 0 to 6769472\n",
      "Data columns (total 6 columns):\n",
      "msno                      object\n",
      "city                      int8\n",
      "bd                        int16\n",
      "gender                    object\n",
      "registered_via            int8\n",
      "registration_init_time    datetime64[ns]\n",
      "dtypes: datetime64[ns](1), int16(1), int8(2), object(2)\n",
      "memory usage: 180.8+ MB\n"
     ]
    }
   ],
   "source": [
    "df_members.info()"
   ]
  },
  {
   "cell_type": "markdown",
   "metadata": {},
   "source": [
    "### Data Cleaning"
   ]
  },
  {
   "cell_type": "markdown",
   "metadata": {},
   "source": [
    "Removing the not possible values from age column"
   ]
  },
  {
   "cell_type": "code",
   "execution_count": 161,
   "metadata": {},
   "outputs": [],
   "source": [
    "df_members['bd'] = df_members['bd'].clip_upper(100).clip_lower(10)"
   ]
  },
  {
   "cell_type": "code",
   "execution_count": 162,
   "metadata": {},
   "outputs": [],
   "source": [
    "gender = {'male':1, 'female':2}"
   ]
  },
  {
   "cell_type": "code",
   "execution_count": 163,
   "metadata": {},
   "outputs": [],
   "source": [
    "df_members['gender'] = df_members['gender'].map(gender) # making category column to int"
   ]
  },
  {
   "cell_type": "code",
   "execution_count": 164,
   "metadata": {},
   "outputs": [],
   "source": [
    "df_members['gender'] = df_members['gender'].fillna(0) #Filling the null values in the column"
   ]
  },
  {
   "cell_type": "code",
   "execution_count": 165,
   "metadata": {},
   "outputs": [
    {
     "data": {
      "text/plain": [
       "msno                      0\n",
       "city                      0\n",
       "bd                        0\n",
       "gender                    0\n",
       "registered_via            0\n",
       "registration_init_time    0\n",
       "dtype: int64"
      ]
     },
     "execution_count": 165,
     "metadata": {},
     "output_type": "execute_result"
    }
   ],
   "source": [
    "#Checking for the null count\n",
    "df_members.isnull().sum()  "
   ]
  },
  {
   "cell_type": "markdown",
   "metadata": {},
   "source": [
    "#### For Memory saving, we change the data types of features based in their values range"
   ]
  },
  {
   "cell_type": "code",
   "execution_count": 166,
   "metadata": {},
   "outputs": [],
   "source": [
    "##Portion to change datatypes\n",
    "def change_int_datatype_cols(df):\n",
    "    integer_cols = list(df.select_dtypes(include=['int']).columns)\n",
    "    for col in integer_cols:\n",
    "        if ((np.max(df[col]) <= 127) and(np.min(df[col] >= -128))):\n",
    "            df[col] = df[col].astype(np.int8)\n",
    "        elif ((np.max(df[col]) <= 32767) and(np.min(df[col] >= -32768))):\n",
    "            df[col] = df[col].astype(np.int16)\n",
    "        elif ((np.max(df[col]) <= 2147483647) and(np.min(df[col] >= -2147483648))):\n",
    "            df[col] = df[col].astype(np.int32)\n",
    "        else:\n",
    "            df[col] = df[col].astype(np.int64)\n",
    "\n",
    "\n",
    "\n",
    "def change_float_datatype_cols(df):\n",
    "    float_cols = list(df.select_dtypes(include=['float']).columns)\n",
    "    for col in float_cols:\n",
    "        df[col] = df[col].astype(np.float32)"
   ]
  },
  {
   "cell_type": "code",
   "execution_count": 167,
   "metadata": {},
   "outputs": [],
   "source": [
    "change_int_datatype_cols(df_members)"
   ]
  },
  {
   "cell_type": "code",
   "execution_count": 168,
   "metadata": {},
   "outputs": [],
   "source": [
    "change_float_datatype_cols(df_members)"
   ]
  },
  {
   "cell_type": "markdown",
   "metadata": {},
   "source": [
    "Binning -We add a categorical version of the bd column, divide the numerical variable into children, teenagers, middle and old. "
   ]
  },
  {
   "cell_type": "code",
   "execution_count": 169,
   "metadata": {},
   "outputs": [],
   "source": [
    "age_bins = [0, 18, 30, 50,100]"
   ]
  },
  {
   "cell_type": "code",
   "execution_count": 170,
   "metadata": {},
   "outputs": [],
   "source": [
    "age_groups = ['children', 'adults', 'medium','old']"
   ]
  },
  {
   "cell_type": "code",
   "execution_count": 171,
   "metadata": {},
   "outputs": [],
   "source": [
    "#New Col added\n",
    "df_members['bd_c'] = pd.cut( df_members['bd'] , age_bins, labels=age_groups)"
   ]
  },
  {
   "cell_type": "markdown",
   "metadata": {},
   "source": [
    "Converting the categorical into numerical format (0,1,2,3)"
   ]
  },
  {
   "cell_type": "code",
   "execution_count": 172,
   "metadata": {},
   "outputs": [],
   "source": [
    "le = preprocessing.LabelEncoder()"
   ]
  },
  {
   "cell_type": "code",
   "execution_count": 173,
   "metadata": {},
   "outputs": [
    {
     "data": {
      "text/plain": [
       "LabelEncoder()"
      ]
     },
     "execution_count": 173,
     "metadata": {},
     "output_type": "execute_result"
    }
   ],
   "source": [
    "le.fit(df_members['bd_c'])"
   ]
  },
  {
   "cell_type": "code",
   "execution_count": 174,
   "metadata": {},
   "outputs": [],
   "source": [
    "df_members['bd_c'] = le.transform(df_members['bd_c'])"
   ]
  },
  {
   "cell_type": "code",
   "execution_count": 175,
   "metadata": {},
   "outputs": [
    {
     "data": {
      "text/html": [
       "<div>\n",
       "<style scoped>\n",
       "    .dataframe tbody tr th:only-of-type {\n",
       "        vertical-align: middle;\n",
       "    }\n",
       "\n",
       "    .dataframe tbody tr th {\n",
       "        vertical-align: top;\n",
       "    }\n",
       "\n",
       "    .dataframe thead th {\n",
       "        text-align: right;\n",
       "    }\n",
       "</style>\n",
       "<table border=\"1\" class=\"dataframe\">\n",
       "  <thead>\n",
       "    <tr style=\"text-align: right;\">\n",
       "      <th></th>\n",
       "      <th>msno</th>\n",
       "      <th>city</th>\n",
       "      <th>bd</th>\n",
       "      <th>gender</th>\n",
       "      <th>registered_via</th>\n",
       "      <th>registration_init_time</th>\n",
       "      <th>bd_c</th>\n",
       "    </tr>\n",
       "  </thead>\n",
       "  <tbody>\n",
       "    <tr>\n",
       "      <th>0</th>\n",
       "      <td>Rb9UwLQTrxzBVwCB6+bCcSQWZ9JiNLC9dXtM1oEsZA8=</td>\n",
       "      <td>1</td>\n",
       "      <td>10</td>\n",
       "      <td>0.0</td>\n",
       "      <td>11</td>\n",
       "      <td>2011-09-11</td>\n",
       "      <td>1</td>\n",
       "    </tr>\n",
       "    <tr>\n",
       "      <th>1</th>\n",
       "      <td>+tJonkh+O1CA796Fm5X60UMOtB6POHAwPjbTRVl/EuU=</td>\n",
       "      <td>1</td>\n",
       "      <td>10</td>\n",
       "      <td>0.0</td>\n",
       "      <td>7</td>\n",
       "      <td>2011-09-14</td>\n",
       "      <td>1</td>\n",
       "    </tr>\n",
       "    <tr>\n",
       "      <th>2</th>\n",
       "      <td>cV358ssn7a0f7jZOwGNWS07wCKVqxyiImJUX6xcIwKw=</td>\n",
       "      <td>1</td>\n",
       "      <td>10</td>\n",
       "      <td>0.0</td>\n",
       "      <td>11</td>\n",
       "      <td>2011-09-15</td>\n",
       "      <td>1</td>\n",
       "    </tr>\n",
       "    <tr>\n",
       "      <th>3</th>\n",
       "      <td>9bzDeJP6sQodK73K5CBlJ6fgIQzPeLnRl0p5B77XP+g=</td>\n",
       "      <td>1</td>\n",
       "      <td>10</td>\n",
       "      <td>0.0</td>\n",
       "      <td>11</td>\n",
       "      <td>2011-09-15</td>\n",
       "      <td>1</td>\n",
       "    </tr>\n",
       "    <tr>\n",
       "      <th>4</th>\n",
       "      <td>WFLY3s7z4EZsieHCt63XrsdtfTEmJ+2PnnKLH5GY4Tk=</td>\n",
       "      <td>6</td>\n",
       "      <td>32</td>\n",
       "      <td>2.0</td>\n",
       "      <td>9</td>\n",
       "      <td>2011-09-15</td>\n",
       "      <td>2</td>\n",
       "    </tr>\n",
       "  </tbody>\n",
       "</table>\n",
       "</div>"
      ],
      "text/plain": [
       "                                           msno  city  bd  gender  \\\n",
       "0  Rb9UwLQTrxzBVwCB6+bCcSQWZ9JiNLC9dXtM1oEsZA8=     1  10     0.0   \n",
       "1  +tJonkh+O1CA796Fm5X60UMOtB6POHAwPjbTRVl/EuU=     1  10     0.0   \n",
       "2  cV358ssn7a0f7jZOwGNWS07wCKVqxyiImJUX6xcIwKw=     1  10     0.0   \n",
       "3  9bzDeJP6sQodK73K5CBlJ6fgIQzPeLnRl0p5B77XP+g=     1  10     0.0   \n",
       "4  WFLY3s7z4EZsieHCt63XrsdtfTEmJ+2PnnKLH5GY4Tk=     6  32     2.0   \n",
       "\n",
       "   registered_via registration_init_time  bd_c  \n",
       "0              11             2011-09-11     1  \n",
       "1               7             2011-09-14     1  \n",
       "2              11             2011-09-15     1  \n",
       "3              11             2011-09-15     1  \n",
       "4               9             2011-09-15     2  "
      ]
     },
     "execution_count": 175,
     "metadata": {},
     "output_type": "execute_result"
    }
   ],
   "source": [
    "\n",
    "df_members.head()"
   ]
  },
  {
   "cell_type": "code",
   "execution_count": 176,
   "metadata": {},
   "outputs": [],
   "source": [
    "#Removing one negative value in registred via\n",
    "df_members = df_members[df_members.registered_via != -1]"
   ]
  },
  {
   "cell_type": "code",
   "execution_count": 177,
   "metadata": {},
   "outputs": [
    {
     "name": "stdout",
     "output_type": "stream",
     "text": [
      "<class 'pandas.core.frame.DataFrame'>\n",
      "RangeIndex: 22978755 entries, 0 to 22978754\n",
      "Data columns (total 9 columns):\n",
      "msno                      object\n",
      "payment_method_id         int8\n",
      "payment_plan_days         int16\n",
      "plan_list_price           int16\n",
      "actual_amount_paid        int16\n",
      "is_auto_renew             int8\n",
      "transaction_date          datetime64[ns]\n",
      "membership_expire_date    datetime64[ns]\n",
      "is_cancel                 int8\n",
      "dtypes: datetime64[ns](2), int16(3), int8(3), object(1)\n",
      "memory usage: 723.2+ MB\n"
     ]
    }
   ],
   "source": [
    "df_transactions.info()"
   ]
  },
  {
   "cell_type": "markdown",
   "metadata": {},
   "source": [
    "### Feature Engineering"
   ]
  },
  {
   "cell_type": "markdown",
   "metadata": {},
   "source": [
    "First we plan to check if users had been given any discounts"
   ]
  },
  {
   "cell_type": "markdown",
   "metadata": {},
   "source": [
    "Discount"
   ]
  },
  {
   "cell_type": "code",
   "execution_count": 178,
   "metadata": {},
   "outputs": [],
   "source": [
    "df_transactions['discount'] = df_transactions['plan_list_price'] - df_transactions['actual_amount_paid']"
   ]
  },
  {
   "cell_type": "code",
   "execution_count": 179,
   "metadata": {},
   "outputs": [
    {
     "data": {
      "text/plain": [
       "array([    0,   149,  -149,    30,  -119,  -150,  -129,  -536,  -894,\n",
       "       -1788,  -134,    20,  -799,   120,   180,   -35,    50, -1599,\n",
       "        -100,  -131,  -300,  -480,  -450,    -1, -1000,  -105,     1,\n",
       "        -447, -1200,  -930,   -30,   -50,   699,   -11,  -350,  -500,\n",
       "           4,  -400,   -41,   -14, -2000,   -95,   -20,  -596,    45,\n",
       "       -1150,   108,  -760,   -12,    99,   129,  1599,    10,     8,\n",
       "         -90,    -3,   894], dtype=int64)"
      ]
     },
     "execution_count": 179,
     "metadata": {},
     "output_type": "execute_result"
    }
   ],
   "source": [
    "df_transactions['discount'].unique()"
   ]
  },
  {
   "cell_type": "markdown",
   "metadata": {},
   "source": [
    "So we convert the negatives and positives to 0 and 1, for better visualization"
   ]
  },
  {
   "cell_type": "code",
   "execution_count": 180,
   "metadata": {},
   "outputs": [],
   "source": [
    "df_transactions['is_discount'] = df_transactions.discount.apply(lambda x: 1 if x > 0 else 0)"
   ]
  },
  {
   "cell_type": "markdown",
   "metadata": {},
   "source": [
    "#### Next we check for the amount paid by users per day"
   ]
  },
  {
   "cell_type": "markdown",
   "metadata": {},
   "source": [
    "Cost Per Day"
   ]
  },
  {
   "cell_type": "code",
   "execution_count": 181,
   "metadata": {},
   "outputs": [],
   "source": [
    "df_transactions['amount_per_day'] = df_transactions['actual_amount_paid']/df_transactions['payment_plan_days']"
   ]
  },
  {
   "cell_type": "code",
   "execution_count": 182,
   "metadata": {},
   "outputs": [
    {
     "data": {
      "text/plain": [
       "array([4.30000000e+00, 4.96666667e+00, 0.00000000e+00,            inf,\n",
       "       3.30000000e+00, 3.96666667e+00, 4.80645161e+00, 3.33333333e+00,\n",
       "       5.00000000e+00, 4.36097561e+00, 6.00000000e+00, 4.58461538e+00,\n",
       "       4.00000000e+00, 4.04810127e+00, 2.97777778e+00, 4.43888889e+00,\n",
       "       4.80000000e+00, 3.97500000e+00, 3.99750000e+00, 3.31111111e+00,\n",
       "                  nan, 4.65000000e+00, 4.25714286e+00, 3.88333333e+00,\n",
       "       3.72500000e+00, 4.46666667e+00, 5.30000000e+00, 3.97333333e+00,\n",
       "       4.13333333e+00, 4.06363636e+00, 3.33333333e-02, 4.36666667e+00,\n",
       "       4.89863014e+00, 4.51515152e+00, 1.11111111e-02, 4.23333333e+00,\n",
       "       4.16438356e+00, 4.41666667e+00, 4.76666667e+00, 4.44444444e+00,\n",
       "       1.00000000e+00, 7.00000000e+00, 4.22222222e+00, 4.38780488e+00,\n",
       "       4.56410256e+00, 1.66666667e+01, 4.39512195e+00, 4.20705882e+00,\n",
       "       3.85301205e+00, 4.47000000e+00, 4.73684211e-01, 4.35384615e+00,\n",
       "       1.36666667e+00, 4.39024390e+00, 3.55890411e+00, 3.83287671e+00,\n",
       "       3.28767123e+00, 3.45205479e+00, 1.65555556e+00, 3.56164384e+00,\n",
       "       4.33658537e+00, 4.34146341e+00, 5.04615385e+00, 4.60000000e+00])"
      ]
     },
     "execution_count": 182,
     "metadata": {},
     "output_type": "execute_result"
    }
   ],
   "source": [
    "df_transactions['amount_per_day'].unique()"
   ]
  },
  {
   "cell_type": "markdown",
   "metadata": {},
   "source": [
    "There are some infinite values present in the amount per day, we need to fill those up with zeroes"
   ]
  },
  {
   "cell_type": "code",
   "execution_count": 183,
   "metadata": {},
   "outputs": [],
   "source": [
    "df_transactions['amount_per_day'] = df_transactions['amount_per_day'].replace([np.inf, -np.inf], 0)"
   ]
  },
  {
   "cell_type": "code",
   "execution_count": 184,
   "metadata": {},
   "outputs": [],
   "source": [
    "df_transactions['amount_per_day'] = df_transactions['amount_per_day'].fillna(0)"
   ]
  },
  {
   "cell_type": "markdown",
   "metadata": {},
   "source": [
    "#### We check and add column for the membership duration"
   ]
  },
  {
   "cell_type": "markdown",
   "metadata": {},
   "source": [
    "Membership Duration"
   ]
  },
  {
   "cell_type": "code",
   "execution_count": 185,
   "metadata": {},
   "outputs": [],
   "source": [
    "df_transactions['membership_duration'] = df_transactions['membership_expire_date'] - df_transactions['transaction_date']"
   ]
  },
  {
   "cell_type": "code",
   "execution_count": 186,
   "metadata": {},
   "outputs": [],
   "source": [
    "df_transactions['membership_duration']  = df_transactions['membership_duration']  / np.timedelta64(1, 'D')"
   ]
  },
  {
   "cell_type": "code",
   "execution_count": 187,
   "metadata": {},
   "outputs": [],
   "source": [
    "df_transactions['membership_duration'] = df_transactions['membership_duration'].astype(int)"
   ]
  },
  {
   "cell_type": "code",
   "execution_count": 188,
   "metadata": {},
   "outputs": [],
   "source": [
    "df_transactions['membership_duration'] = df_transactions['membership_duration'].clip_lower(0)"
   ]
  },
  {
   "cell_type": "markdown",
   "metadata": {},
   "source": [
    "Auto Renew"
   ]
  },
  {
   "cell_type": "code",
   "execution_count": 189,
   "metadata": {},
   "outputs": [],
   "source": [
    "#We check a column to see the auto renewal status of users license\n",
    "df_transactions['not_auto_renew'] = df_transactions.is_auto_renew.apply(lambda x: 1 if x == 0 else 0)"
   ]
  },
  {
   "cell_type": "code",
   "execution_count": 190,
   "metadata": {},
   "outputs": [],
   "source": [
    "#We have derived important features and now we will dropped the columns to reduce memory usage\n",
    "drop_columns = ['discount' , 'plan_list_price', 'actual_amount_paid', 'transaction_date','is_auto_renew' ]\n",
    "df_transactions = df_transactions.drop(drop_columns, 1)"
   ]
  },
  {
   "cell_type": "markdown",
   "metadata": {},
   "source": [
    "Changing the data types of transaction dataframe for memory reduction"
   ]
  },
  {
   "cell_type": "code",
   "execution_count": 191,
   "metadata": {},
   "outputs": [],
   "source": [
    "##Memory Reduction\n",
    "change_int_datatype_cols(df_transactions)\n",
    "change_float_datatype_cols(df_transactions)"
   ]
  },
  {
   "cell_type": "markdown",
   "metadata": {},
   "source": [
    "Final DF after preprocessing"
   ]
  },
  {
   "cell_type": "code",
   "execution_count": 192,
   "metadata": {
    "scrolled": true
   },
   "outputs": [
    {
     "data": {
      "text/html": [
       "<div>\n",
       "<style scoped>\n",
       "    .dataframe tbody tr th:only-of-type {\n",
       "        vertical-align: middle;\n",
       "    }\n",
       "\n",
       "    .dataframe tbody tr th {\n",
       "        vertical-align: top;\n",
       "    }\n",
       "\n",
       "    .dataframe thead th {\n",
       "        text-align: right;\n",
       "    }\n",
       "</style>\n",
       "<table border=\"1\" class=\"dataframe\">\n",
       "  <thead>\n",
       "    <tr style=\"text-align: right;\">\n",
       "      <th></th>\n",
       "      <th>msno</th>\n",
       "      <th>payment_method_id</th>\n",
       "      <th>payment_plan_days</th>\n",
       "      <th>membership_expire_date</th>\n",
       "      <th>is_cancel</th>\n",
       "      <th>is_discount</th>\n",
       "      <th>amount_per_day</th>\n",
       "      <th>membership_duration</th>\n",
       "      <th>not_auto_renew</th>\n",
       "    </tr>\n",
       "  </thead>\n",
       "  <tbody>\n",
       "    <tr>\n",
       "      <th>0</th>\n",
       "      <td>YyO+tlZtAXYXoZhNr3Vg3+dfVQvrBVGO8j1mfqe4ZHc=</td>\n",
       "      <td>41</td>\n",
       "      <td>30</td>\n",
       "      <td>2015-11-01</td>\n",
       "      <td>0</td>\n",
       "      <td>0</td>\n",
       "      <td>4.300000</td>\n",
       "      <td>32</td>\n",
       "      <td>0</td>\n",
       "    </tr>\n",
       "    <tr>\n",
       "      <th>1</th>\n",
       "      <td>AZtu6Wl0gPojrEQYB8Q3vBSmE2wnZ3hi1FbK1rQQ0A4=</td>\n",
       "      <td>41</td>\n",
       "      <td>30</td>\n",
       "      <td>2015-10-31</td>\n",
       "      <td>0</td>\n",
       "      <td>0</td>\n",
       "      <td>4.966667</td>\n",
       "      <td>31</td>\n",
       "      <td>0</td>\n",
       "    </tr>\n",
       "    <tr>\n",
       "      <th>2</th>\n",
       "      <td>UkDFI97Qb6+s2LWcijVVv4rMAsORbVDT2wNXF0aVbns=</td>\n",
       "      <td>41</td>\n",
       "      <td>30</td>\n",
       "      <td>2016-04-27</td>\n",
       "      <td>0</td>\n",
       "      <td>0</td>\n",
       "      <td>4.300000</td>\n",
       "      <td>210</td>\n",
       "      <td>0</td>\n",
       "    </tr>\n",
       "    <tr>\n",
       "      <th>3</th>\n",
       "      <td>M1C56ijxozNaGD0t2h68PnH2xtx5iO5iR2MVYQB6nBI=</td>\n",
       "      <td>39</td>\n",
       "      <td>30</td>\n",
       "      <td>2015-11-28</td>\n",
       "      <td>0</td>\n",
       "      <td>0</td>\n",
       "      <td>4.966667</td>\n",
       "      <td>59</td>\n",
       "      <td>0</td>\n",
       "    </tr>\n",
       "    <tr>\n",
       "      <th>4</th>\n",
       "      <td>yvj6zyBUaqdbUQSrKsrZ+xNDVM62knauSZJzakS9OW4=</td>\n",
       "      <td>39</td>\n",
       "      <td>30</td>\n",
       "      <td>2015-11-21</td>\n",
       "      <td>0</td>\n",
       "      <td>0</td>\n",
       "      <td>4.966667</td>\n",
       "      <td>52</td>\n",
       "      <td>0</td>\n",
       "    </tr>\n",
       "  </tbody>\n",
       "</table>\n",
       "</div>"
      ],
      "text/plain": [
       "                                           msno  payment_method_id  \\\n",
       "0  YyO+tlZtAXYXoZhNr3Vg3+dfVQvrBVGO8j1mfqe4ZHc=                 41   \n",
       "1  AZtu6Wl0gPojrEQYB8Q3vBSmE2wnZ3hi1FbK1rQQ0A4=                 41   \n",
       "2  UkDFI97Qb6+s2LWcijVVv4rMAsORbVDT2wNXF0aVbns=                 41   \n",
       "3  M1C56ijxozNaGD0t2h68PnH2xtx5iO5iR2MVYQB6nBI=                 39   \n",
       "4  yvj6zyBUaqdbUQSrKsrZ+xNDVM62knauSZJzakS9OW4=                 39   \n",
       "\n",
       "   payment_plan_days membership_expire_date  is_cancel  is_discount  \\\n",
       "0                 30             2015-11-01          0            0   \n",
       "1                 30             2015-10-31          0            0   \n",
       "2                 30             2016-04-27          0            0   \n",
       "3                 30             2015-11-28          0            0   \n",
       "4                 30             2015-11-21          0            0   \n",
       "\n",
       "   amount_per_day  membership_duration  not_auto_renew  \n",
       "0        4.300000                   32               0  \n",
       "1        4.966667                   31               0  \n",
       "2        4.300000                  210               0  \n",
       "3        4.966667                   59               0  \n",
       "4        4.966667                   52               0  "
      ]
     },
     "execution_count": 192,
     "metadata": {},
     "output_type": "execute_result"
    }
   ],
   "source": [
    "df_transactions.head()"
   ]
  },
  {
   "cell_type": "markdown",
   "metadata": {},
   "source": [
    "New Features after preprocessing: is_cancel, is_discount, amount_per_day, not_auto_renew"
   ]
  },
  {
   "cell_type": "markdown",
   "metadata": {},
   "source": [
    "#### Some users have multiple records, so now we group those records"
   ]
  },
  {
   "cell_type": "markdown",
   "metadata": {},
   "source": [
    "Defining a mode function to be applied to categorical columns"
   ]
  },
  {
   "cell_type": "code",
   "execution_count": 193,
   "metadata": {},
   "outputs": [],
   "source": [
    "mode_fn = (lambda x: stats.mode(x)[0][0])"
   ]
  },
  {
   "cell_type": "markdown",
   "metadata": {},
   "source": [
    "Defining a mean function to be applied to continuous columns"
   ]
  },
  {
   "cell_type": "code",
   "execution_count": 194,
   "metadata": {},
   "outputs": [],
   "source": [
    "mean_fn = (lambda x: np.mean(x))"
   ]
  },
  {
   "cell_type": "code",
   "execution_count": 195,
   "metadata": {},
   "outputs": [],
   "source": [
    "\n",
    "f = {'payment_method_id': {'payment_method_id': mode_fn },\n",
    "     'payment_plan_days': {'payment_plan_days': mean_fn}, \n",
    "     'not_auto_renew':['sum'],\n",
    "     'msno':['size'],\n",
    "     'is_cancel':['sum'],\n",
    "     'is_discount':['sum'],\n",
    "     'amount_per_day':{'amount_per_day': mean_fn},\n",
    "     'membership_duration':{'membership_duration': mean_fn},\n",
    "     'membership_expire_date':['max']}"
   ]
  },
  {
   "cell_type": "markdown",
   "metadata": {},
   "source": [
    "Applying mean and mode on various columns"
   ]
  },
  {
   "cell_type": "code",
   "execution_count": 196,
   "metadata": {},
   "outputs": [
    {
     "name": "stderr",
     "output_type": "stream",
     "text": [
      "C:\\Users\\ajayc\\Anaconda3\\lib\\site-packages\\pandas\\core\\groupby.py:4291: FutureWarning: using a dict with renaming is deprecated and will be removed in a future version\n",
      "  return super(DataFrameGroupBy, self).aggregate(arg, *args, **kwargs)\n"
     ]
    }
   ],
   "source": [
    "df_group_by = df_transactions.groupby('msno').agg(f)"
   ]
  },
  {
   "cell_type": "code",
   "execution_count": 197,
   "metadata": {},
   "outputs": [],
   "source": [
    "#Grouped by data in a dataframe groupby\n",
    "df_group_by = df_group_by.reset_index()\n",
    "\n"
   ]
  },
  {
   "cell_type": "code",
   "execution_count": 198,
   "metadata": {},
   "outputs": [
    {
     "data": {
      "text/html": [
       "<div>\n",
       "<style scoped>\n",
       "    .dataframe tbody tr th:only-of-type {\n",
       "        vertical-align: middle;\n",
       "    }\n",
       "\n",
       "    .dataframe tbody tr th {\n",
       "        vertical-align: top;\n",
       "    }\n",
       "\n",
       "    .dataframe thead tr th {\n",
       "        text-align: left;\n",
       "    }\n",
       "</style>\n",
       "<table border=\"1\" class=\"dataframe\">\n",
       "  <thead>\n",
       "    <tr>\n",
       "      <th></th>\n",
       "      <th>msno</th>\n",
       "      <th>payment_method_id</th>\n",
       "      <th>payment_plan_days</th>\n",
       "      <th>not_auto_renew</th>\n",
       "      <th>msno</th>\n",
       "      <th>is_cancel</th>\n",
       "      <th>is_discount</th>\n",
       "      <th>amount_per_day</th>\n",
       "      <th>membership_duration</th>\n",
       "      <th>membership_expire_date</th>\n",
       "    </tr>\n",
       "    <tr>\n",
       "      <th></th>\n",
       "      <th></th>\n",
       "      <th>payment_method_id</th>\n",
       "      <th>payment_plan_days</th>\n",
       "      <th>sum</th>\n",
       "      <th>size</th>\n",
       "      <th>sum</th>\n",
       "      <th>sum</th>\n",
       "      <th>amount_per_day</th>\n",
       "      <th>membership_duration</th>\n",
       "      <th>max</th>\n",
       "    </tr>\n",
       "  </thead>\n",
       "  <tbody>\n",
       "    <tr>\n",
       "      <th>0</th>\n",
       "      <td>+++FOrTS7ab3tIgIh8eWwX4FqRv8w/FoiOuyXsFvphY=</td>\n",
       "      <td>35</td>\n",
       "      <td>7.000000</td>\n",
       "      <td>1</td>\n",
       "      <td>1</td>\n",
       "      <td>0</td>\n",
       "      <td>0</td>\n",
       "      <td>0.000000</td>\n",
       "      <td>5.000000</td>\n",
       "      <td>2016-09-14</td>\n",
       "    </tr>\n",
       "    <tr>\n",
       "      <th>1</th>\n",
       "      <td>+++IZseRRiQS9aaSkH6cMYU6bGDcxUieAi/tH67sC5s=</td>\n",
       "      <td>22</td>\n",
       "      <td>402.500000</td>\n",
       "      <td>2</td>\n",
       "      <td>2</td>\n",
       "      <td>0</td>\n",
       "      <td>0</td>\n",
       "      <td>4.204538</td>\n",
       "      <td>440.500000</td>\n",
       "      <td>2018-02-06</td>\n",
       "    </tr>\n",
       "    <tr>\n",
       "      <th>2</th>\n",
       "      <td>+++hVY1rZox/33YtvDgmKA2Frg/2qhkz12B9ylCvh8o=</td>\n",
       "      <td>41</td>\n",
       "      <td>30.000000</td>\n",
       "      <td>0</td>\n",
       "      <td>5</td>\n",
       "      <td>0</td>\n",
       "      <td>0</td>\n",
       "      <td>3.300000</td>\n",
       "      <td>30.000000</td>\n",
       "      <td>2017-04-15</td>\n",
       "    </tr>\n",
       "    <tr>\n",
       "      <th>3</th>\n",
       "      <td>+++l/EXNMLTijfLBa8p2TUVVVp2aFGSuUI/h7mLmthw=</td>\n",
       "      <td>39</td>\n",
       "      <td>28.714286</td>\n",
       "      <td>0</td>\n",
       "      <td>21</td>\n",
       "      <td>0</td>\n",
       "      <td>0</td>\n",
       "      <td>4.707271</td>\n",
       "      <td>49.095238</td>\n",
       "      <td>2017-05-19</td>\n",
       "    </tr>\n",
       "    <tr>\n",
       "      <th>4</th>\n",
       "      <td>+++snpr7pmobhLKUgSHTv/mpkqgBT0tQJ0zQj6qKrqc=</td>\n",
       "      <td>41</td>\n",
       "      <td>28.888889</td>\n",
       "      <td>0</td>\n",
       "      <td>27</td>\n",
       "      <td>0</td>\n",
       "      <td>0</td>\n",
       "      <td>4.782716</td>\n",
       "      <td>30.407407</td>\n",
       "      <td>2017-04-26</td>\n",
       "    </tr>\n",
       "  </tbody>\n",
       "</table>\n",
       "</div>"
      ],
      "text/plain": [
       "                                           msno payment_method_id  \\\n",
       "                                                payment_method_id   \n",
       "0  +++FOrTS7ab3tIgIh8eWwX4FqRv8w/FoiOuyXsFvphY=                35   \n",
       "1  +++IZseRRiQS9aaSkH6cMYU6bGDcxUieAi/tH67sC5s=                22   \n",
       "2  +++hVY1rZox/33YtvDgmKA2Frg/2qhkz12B9ylCvh8o=                41   \n",
       "3  +++l/EXNMLTijfLBa8p2TUVVVp2aFGSuUI/h7mLmthw=                39   \n",
       "4  +++snpr7pmobhLKUgSHTv/mpkqgBT0tQJ0zQj6qKrqc=                41   \n",
       "\n",
       "  payment_plan_days not_auto_renew msno is_cancel is_discount amount_per_day  \\\n",
       "  payment_plan_days            sum size       sum         sum amount_per_day   \n",
       "0          7.000000              1    1         0           0       0.000000   \n",
       "1        402.500000              2    2         0           0       4.204538   \n",
       "2         30.000000              0    5         0           0       3.300000   \n",
       "3         28.714286              0   21         0           0       4.707271   \n",
       "4         28.888889              0   27         0           0       4.782716   \n",
       "\n",
       "  membership_duration membership_expire_date  \n",
       "  membership_duration                    max  \n",
       "0            5.000000             2016-09-14  \n",
       "1          440.500000             2018-02-06  \n",
       "2           30.000000             2017-04-15  \n",
       "3           49.095238             2017-05-19  \n",
       "4           30.407407             2017-04-26  "
      ]
     },
     "execution_count": 198,
     "metadata": {},
     "output_type": "execute_result"
    }
   ],
   "source": [
    "df_group_by.head()"
   ]
  },
  {
   "cell_type": "code",
   "execution_count": 199,
   "metadata": {},
   "outputs": [],
   "source": [
    "df_group_by.columns = df_group_by.columns.droplevel(1)"
   ]
  },
  {
   "cell_type": "code",
   "execution_count": 200,
   "metadata": {},
   "outputs": [],
   "source": [
    "df_group_by.columns = ['msno','payment_method_id','payment_plan_days','not_auto_renew','msno_count','is_cancel','is_discount','amount_per_day','membership_duration','membership_expire_date']"
   ]
  },
  {
   "cell_type": "markdown",
   "metadata": {},
   "source": [
    "Updated the columns of the new dataframe"
   ]
  },
  {
   "cell_type": "markdown",
   "metadata": {},
   "source": [
    "Now we will merge the members and groupby dataframe  "
   ]
  },
  {
   "cell_type": "code",
   "execution_count": 201,
   "metadata": {},
   "outputs": [],
   "source": [
    "df_group_by = pd.merge(df_group_by,df_members, on = 'msno', how = 'left')"
   ]
  },
  {
   "cell_type": "code",
   "execution_count": 202,
   "metadata": {},
   "outputs": [
    {
     "data": {
      "text/html": [
       "<div>\n",
       "<style scoped>\n",
       "    .dataframe tbody tr th:only-of-type {\n",
       "        vertical-align: middle;\n",
       "    }\n",
       "\n",
       "    .dataframe tbody tr th {\n",
       "        vertical-align: top;\n",
       "    }\n",
       "\n",
       "    .dataframe thead th {\n",
       "        text-align: right;\n",
       "    }\n",
       "</style>\n",
       "<table border=\"1\" class=\"dataframe\">\n",
       "  <thead>\n",
       "    <tr style=\"text-align: right;\">\n",
       "      <th></th>\n",
       "      <th>msno</th>\n",
       "      <th>payment_method_id</th>\n",
       "      <th>payment_plan_days</th>\n",
       "      <th>not_auto_renew</th>\n",
       "      <th>msno_count</th>\n",
       "      <th>is_cancel</th>\n",
       "      <th>is_discount</th>\n",
       "      <th>amount_per_day</th>\n",
       "      <th>membership_duration</th>\n",
       "      <th>membership_expire_date</th>\n",
       "      <th>city</th>\n",
       "      <th>bd</th>\n",
       "      <th>gender</th>\n",
       "      <th>registered_via</th>\n",
       "      <th>registration_init_time</th>\n",
       "      <th>bd_c</th>\n",
       "    </tr>\n",
       "  </thead>\n",
       "  <tbody>\n",
       "    <tr>\n",
       "      <th>0</th>\n",
       "      <td>+++FOrTS7ab3tIgIh8eWwX4FqRv8w/FoiOuyXsFvphY=</td>\n",
       "      <td>35</td>\n",
       "      <td>7.000000</td>\n",
       "      <td>1</td>\n",
       "      <td>1</td>\n",
       "      <td>0</td>\n",
       "      <td>0</td>\n",
       "      <td>0.000000</td>\n",
       "      <td>5.000000</td>\n",
       "      <td>2016-09-14</td>\n",
       "      <td>15.0</td>\n",
       "      <td>28.0</td>\n",
       "      <td>2.0</td>\n",
       "      <td>9.0</td>\n",
       "      <td>2004-03-27</td>\n",
       "      <td>0.0</td>\n",
       "    </tr>\n",
       "    <tr>\n",
       "      <th>1</th>\n",
       "      <td>+++IZseRRiQS9aaSkH6cMYU6bGDcxUieAi/tH67sC5s=</td>\n",
       "      <td>22</td>\n",
       "      <td>402.500000</td>\n",
       "      <td>2</td>\n",
       "      <td>2</td>\n",
       "      <td>0</td>\n",
       "      <td>0</td>\n",
       "      <td>4.204538</td>\n",
       "      <td>440.500000</td>\n",
       "      <td>2018-02-06</td>\n",
       "      <td>6.0</td>\n",
       "      <td>22.0</td>\n",
       "      <td>2.0</td>\n",
       "      <td>3.0</td>\n",
       "      <td>2012-12-24</td>\n",
       "      <td>0.0</td>\n",
       "    </tr>\n",
       "    <tr>\n",
       "      <th>2</th>\n",
       "      <td>+++hVY1rZox/33YtvDgmKA2Frg/2qhkz12B9ylCvh8o=</td>\n",
       "      <td>41</td>\n",
       "      <td>30.000000</td>\n",
       "      <td>0</td>\n",
       "      <td>5</td>\n",
       "      <td>0</td>\n",
       "      <td>0</td>\n",
       "      <td>3.300000</td>\n",
       "      <td>30.000000</td>\n",
       "      <td>2017-04-15</td>\n",
       "      <td>1.0</td>\n",
       "      <td>10.0</td>\n",
       "      <td>0.0</td>\n",
       "      <td>7.0</td>\n",
       "      <td>2014-06-08</td>\n",
       "      <td>1.0</td>\n",
       "    </tr>\n",
       "    <tr>\n",
       "      <th>3</th>\n",
       "      <td>+++l/EXNMLTijfLBa8p2TUVVVp2aFGSuUI/h7mLmthw=</td>\n",
       "      <td>39</td>\n",
       "      <td>28.714286</td>\n",
       "      <td>0</td>\n",
       "      <td>21</td>\n",
       "      <td>0</td>\n",
       "      <td>0</td>\n",
       "      <td>4.707271</td>\n",
       "      <td>49.095238</td>\n",
       "      <td>2017-05-19</td>\n",
       "      <td>15.0</td>\n",
       "      <td>26.0</td>\n",
       "      <td>1.0</td>\n",
       "      <td>9.0</td>\n",
       "      <td>2010-11-18</td>\n",
       "      <td>0.0</td>\n",
       "    </tr>\n",
       "    <tr>\n",
       "      <th>4</th>\n",
       "      <td>+++snpr7pmobhLKUgSHTv/mpkqgBT0tQJ0zQj6qKrqc=</td>\n",
       "      <td>41</td>\n",
       "      <td>28.888889</td>\n",
       "      <td>0</td>\n",
       "      <td>27</td>\n",
       "      <td>0</td>\n",
       "      <td>0</td>\n",
       "      <td>4.782716</td>\n",
       "      <td>30.407407</td>\n",
       "      <td>2017-04-26</td>\n",
       "      <td>1.0</td>\n",
       "      <td>10.0</td>\n",
       "      <td>0.0</td>\n",
       "      <td>7.0</td>\n",
       "      <td>2014-09-27</td>\n",
       "      <td>1.0</td>\n",
       "    </tr>\n",
       "    <tr>\n",
       "      <th>5</th>\n",
       "      <td>++/9R3sX37CjxbY/AaGvbwr3QkwElKBCtSvVzhCBDOk=</td>\n",
       "      <td>41</td>\n",
       "      <td>30.000000</td>\n",
       "      <td>0</td>\n",
       "      <td>13</td>\n",
       "      <td>0</td>\n",
       "      <td>0</td>\n",
       "      <td>4.966667</td>\n",
       "      <td>30.461538</td>\n",
       "      <td>2017-04-15</td>\n",
       "      <td>18.0</td>\n",
       "      <td>21.0</td>\n",
       "      <td>1.0</td>\n",
       "      <td>7.0</td>\n",
       "      <td>2016-03-15</td>\n",
       "      <td>0.0</td>\n",
       "    </tr>\n",
       "    <tr>\n",
       "      <th>6</th>\n",
       "      <td>++/Gw1B9K+XOlB3hLTloeUK2QlCa2m+BJ8TrzGf7djI=</td>\n",
       "      <td>40</td>\n",
       "      <td>45.444444</td>\n",
       "      <td>1</td>\n",
       "      <td>9</td>\n",
       "      <td>1</td>\n",
       "      <td>0</td>\n",
       "      <td>4.301158</td>\n",
       "      <td>50.444444</td>\n",
       "      <td>2016-03-01</td>\n",
       "      <td>15.0</td>\n",
       "      <td>32.0</td>\n",
       "      <td>1.0</td>\n",
       "      <td>3.0</td>\n",
       "      <td>2012-12-17</td>\n",
       "      <td>2.0</td>\n",
       "    </tr>\n",
       "    <tr>\n",
       "      <th>7</th>\n",
       "      <td>++/TR7WI15q2ZCtOXmoap7jR+kEhbMVE5swOqsfqpqI=</td>\n",
       "      <td>11</td>\n",
       "      <td>27.000000</td>\n",
       "      <td>0</td>\n",
       "      <td>9</td>\n",
       "      <td>1</td>\n",
       "      <td>0</td>\n",
       "      <td>4.361410</td>\n",
       "      <td>30.555556</td>\n",
       "      <td>2015-09-25</td>\n",
       "      <td>NaN</td>\n",
       "      <td>NaN</td>\n",
       "      <td>NaN</td>\n",
       "      <td>NaN</td>\n",
       "      <td>NaT</td>\n",
       "      <td>NaN</td>\n",
       "    </tr>\n",
       "    <tr>\n",
       "      <th>8</th>\n",
       "      <td>++/UDNo9DLrxT8QVGiDi1OnWfczAdEwThaVyD0fXO50=</td>\n",
       "      <td>39</td>\n",
       "      <td>28.714286</td>\n",
       "      <td>0</td>\n",
       "      <td>21</td>\n",
       "      <td>0</td>\n",
       "      <td>0</td>\n",
       "      <td>4.707271</td>\n",
       "      <td>53.095238</td>\n",
       "      <td>2017-05-23</td>\n",
       "      <td>22.0</td>\n",
       "      <td>32.0</td>\n",
       "      <td>1.0</td>\n",
       "      <td>9.0</td>\n",
       "      <td>2012-01-22</td>\n",
       "      <td>2.0</td>\n",
       "    </tr>\n",
       "    <tr>\n",
       "      <th>9</th>\n",
       "      <td>++/ZHqwUNa7U21Qz+zqteiXlZapxey86l6eEorrak/g=</td>\n",
       "      <td>14</td>\n",
       "      <td>22.173913</td>\n",
       "      <td>0</td>\n",
       "      <td>23</td>\n",
       "      <td>0</td>\n",
       "      <td>0</td>\n",
       "      <td>3.671015</td>\n",
       "      <td>33.391304</td>\n",
       "      <td>2017-05-04</td>\n",
       "      <td>13.0</td>\n",
       "      <td>39.0</td>\n",
       "      <td>1.0</td>\n",
       "      <td>3.0</td>\n",
       "      <td>2014-04-21</td>\n",
       "      <td>2.0</td>\n",
       "    </tr>\n",
       "    <tr>\n",
       "      <th>10</th>\n",
       "      <td>++/gTmVgKUbNFmsTiriZdWV1uZIrLXCUiEWN0fEU6BM=</td>\n",
       "      <td>41</td>\n",
       "      <td>30.000000</td>\n",
       "      <td>0</td>\n",
       "      <td>5</td>\n",
       "      <td>1</td>\n",
       "      <td>1</td>\n",
       "      <td>3.973333</td>\n",
       "      <td>24.000000</td>\n",
       "      <td>2016-03-10</td>\n",
       "      <td>1.0</td>\n",
       "      <td>10.0</td>\n",
       "      <td>0.0</td>\n",
       "      <td>7.0</td>\n",
       "      <td>2015-11-11</td>\n",
       "      <td>1.0</td>\n",
       "    </tr>\n",
       "    <tr>\n",
       "      <th>11</th>\n",
       "      <td>++/imsKMXignukHBIRfOhocobbR8Qk1Ew5mhjOCJg5A=</td>\n",
       "      <td>35</td>\n",
       "      <td>7.000000</td>\n",
       "      <td>1</td>\n",
       "      <td>1</td>\n",
       "      <td>0</td>\n",
       "      <td>0</td>\n",
       "      <td>0.000000</td>\n",
       "      <td>1.000000</td>\n",
       "      <td>2015-06-15</td>\n",
       "      <td>1.0</td>\n",
       "      <td>10.0</td>\n",
       "      <td>0.0</td>\n",
       "      <td>7.0</td>\n",
       "      <td>2010-10-05</td>\n",
       "      <td>1.0</td>\n",
       "    </tr>\n",
       "    <tr>\n",
       "      <th>12</th>\n",
       "      <td>++0+IdHga8fCSioOVpU8K7y4Asw8AveIApVH2r9q9yY=</td>\n",
       "      <td>32</td>\n",
       "      <td>410.000000</td>\n",
       "      <td>2</td>\n",
       "      <td>2</td>\n",
       "      <td>0</td>\n",
       "      <td>0</td>\n",
       "      <td>4.360976</td>\n",
       "      <td>413.000000</td>\n",
       "      <td>2017-08-21</td>\n",
       "      <td>13.0</td>\n",
       "      <td>32.0</td>\n",
       "      <td>1.0</td>\n",
       "      <td>9.0</td>\n",
       "      <td>2010-10-19</td>\n",
       "      <td>2.0</td>\n",
       "    </tr>\n",
       "    <tr>\n",
       "      <th>13</th>\n",
       "      <td>++0/NopttBsaAn6qHZA2AWWrDg7Me7UOMs1vsyo4tSI=</td>\n",
       "      <td>41</td>\n",
       "      <td>30.000000</td>\n",
       "      <td>0</td>\n",
       "      <td>13</td>\n",
       "      <td>0</td>\n",
       "      <td>0</td>\n",
       "      <td>4.966667</td>\n",
       "      <td>30.461538</td>\n",
       "      <td>2017-04-20</td>\n",
       "      <td>1.0</td>\n",
       "      <td>10.0</td>\n",
       "      <td>0.0</td>\n",
       "      <td>7.0</td>\n",
       "      <td>2016-03-20</td>\n",
       "      <td>1.0</td>\n",
       "    </tr>\n",
       "    <tr>\n",
       "      <th>14</th>\n",
       "      <td>++02XbtviomSxcIBUHMOiJkjRxdicTXSfiVqLdsr5lo=</td>\n",
       "      <td>35</td>\n",
       "      <td>7.000000</td>\n",
       "      <td>1</td>\n",
       "      <td>1</td>\n",
       "      <td>0</td>\n",
       "      <td>0</td>\n",
       "      <td>0.000000</td>\n",
       "      <td>7.000000</td>\n",
       "      <td>2016-11-27</td>\n",
       "      <td>14.0</td>\n",
       "      <td>21.0</td>\n",
       "      <td>1.0</td>\n",
       "      <td>7.0</td>\n",
       "      <td>2013-11-12</td>\n",
       "      <td>0.0</td>\n",
       "    </tr>\n",
       "    <tr>\n",
       "      <th>15</th>\n",
       "      <td>++096narOxHnDPtbtUtB4WDqDy8EJacQypdqDYBHmmY=</td>\n",
       "      <td>35</td>\n",
       "      <td>7.000000</td>\n",
       "      <td>1</td>\n",
       "      <td>1</td>\n",
       "      <td>0</td>\n",
       "      <td>0</td>\n",
       "      <td>0.000000</td>\n",
       "      <td>7.000000</td>\n",
       "      <td>2016-12-03</td>\n",
       "      <td>1.0</td>\n",
       "      <td>10.0</td>\n",
       "      <td>0.0</td>\n",
       "      <td>4.0</td>\n",
       "      <td>2016-11-26</td>\n",
       "      <td>1.0</td>\n",
       "    </tr>\n",
       "    <tr>\n",
       "      <th>16</th>\n",
       "      <td>++0BJXY8tpirgIhJR14LDM1pnaRosjD1mdO1mIKxlJA=</td>\n",
       "      <td>38</td>\n",
       "      <td>33.941176</td>\n",
       "      <td>17</td>\n",
       "      <td>17</td>\n",
       "      <td>0</td>\n",
       "      <td>0</td>\n",
       "      <td>4.616177</td>\n",
       "      <td>35.882353</td>\n",
       "      <td>2017-04-26</td>\n",
       "      <td>1.0</td>\n",
       "      <td>10.0</td>\n",
       "      <td>0.0</td>\n",
       "      <td>9.0</td>\n",
       "      <td>2015-08-07</td>\n",
       "      <td>1.0</td>\n",
       "    </tr>\n",
       "    <tr>\n",
       "      <th>17</th>\n",
       "      <td>++0EzISdtKY48Z0GY62jer/LFQwrNIAbADdtU5xStGY=</td>\n",
       "      <td>38</td>\n",
       "      <td>39.571429</td>\n",
       "      <td>7</td>\n",
       "      <td>7</td>\n",
       "      <td>0</td>\n",
       "      <td>0</td>\n",
       "      <td>4.115476</td>\n",
       "      <td>43.714286</td>\n",
       "      <td>2017-03-31</td>\n",
       "      <td>1.0</td>\n",
       "      <td>10.0</td>\n",
       "      <td>0.0</td>\n",
       "      <td>3.0</td>\n",
       "      <td>2013-12-05</td>\n",
       "      <td>1.0</td>\n",
       "    </tr>\n",
       "    <tr>\n",
       "      <th>18</th>\n",
       "      <td>++0GCV3WGMjibrwCnDuVZXMoIxs1mnMRaD7rFJFU2Ho=</td>\n",
       "      <td>35</td>\n",
       "      <td>7.000000</td>\n",
       "      <td>1</td>\n",
       "      <td>1</td>\n",
       "      <td>0</td>\n",
       "      <td>0</td>\n",
       "      <td>0.000000</td>\n",
       "      <td>7.000000</td>\n",
       "      <td>2016-12-02</td>\n",
       "      <td>1.0</td>\n",
       "      <td>10.0</td>\n",
       "      <td>0.0</td>\n",
       "      <td>3.0</td>\n",
       "      <td>2012-10-22</td>\n",
       "      <td>1.0</td>\n",
       "    </tr>\n",
       "    <tr>\n",
       "      <th>19</th>\n",
       "      <td>++0JQqGo/czgqG5qCY31TYkzV7WUMf2QWAS+OeIs//o=</td>\n",
       "      <td>35</td>\n",
       "      <td>7.000000</td>\n",
       "      <td>1</td>\n",
       "      <td>1</td>\n",
       "      <td>0</td>\n",
       "      <td>0</td>\n",
       "      <td>0.000000</td>\n",
       "      <td>7.000000</td>\n",
       "      <td>2016-12-06</td>\n",
       "      <td>1.0</td>\n",
       "      <td>10.0</td>\n",
       "      <td>0.0</td>\n",
       "      <td>4.0</td>\n",
       "      <td>2015-11-02</td>\n",
       "      <td>1.0</td>\n",
       "    </tr>\n",
       "  </tbody>\n",
       "</table>\n",
       "</div>"
      ],
      "text/plain": [
       "                                            msno  payment_method_id  \\\n",
       "0   +++FOrTS7ab3tIgIh8eWwX4FqRv8w/FoiOuyXsFvphY=                 35   \n",
       "1   +++IZseRRiQS9aaSkH6cMYU6bGDcxUieAi/tH67sC5s=                 22   \n",
       "2   +++hVY1rZox/33YtvDgmKA2Frg/2qhkz12B9ylCvh8o=                 41   \n",
       "3   +++l/EXNMLTijfLBa8p2TUVVVp2aFGSuUI/h7mLmthw=                 39   \n",
       "4   +++snpr7pmobhLKUgSHTv/mpkqgBT0tQJ0zQj6qKrqc=                 41   \n",
       "5   ++/9R3sX37CjxbY/AaGvbwr3QkwElKBCtSvVzhCBDOk=                 41   \n",
       "6   ++/Gw1B9K+XOlB3hLTloeUK2QlCa2m+BJ8TrzGf7djI=                 40   \n",
       "7   ++/TR7WI15q2ZCtOXmoap7jR+kEhbMVE5swOqsfqpqI=                 11   \n",
       "8   ++/UDNo9DLrxT8QVGiDi1OnWfczAdEwThaVyD0fXO50=                 39   \n",
       "9   ++/ZHqwUNa7U21Qz+zqteiXlZapxey86l6eEorrak/g=                 14   \n",
       "10  ++/gTmVgKUbNFmsTiriZdWV1uZIrLXCUiEWN0fEU6BM=                 41   \n",
       "11  ++/imsKMXignukHBIRfOhocobbR8Qk1Ew5mhjOCJg5A=                 35   \n",
       "12  ++0+IdHga8fCSioOVpU8K7y4Asw8AveIApVH2r9q9yY=                 32   \n",
       "13  ++0/NopttBsaAn6qHZA2AWWrDg7Me7UOMs1vsyo4tSI=                 41   \n",
       "14  ++02XbtviomSxcIBUHMOiJkjRxdicTXSfiVqLdsr5lo=                 35   \n",
       "15  ++096narOxHnDPtbtUtB4WDqDy8EJacQypdqDYBHmmY=                 35   \n",
       "16  ++0BJXY8tpirgIhJR14LDM1pnaRosjD1mdO1mIKxlJA=                 38   \n",
       "17  ++0EzISdtKY48Z0GY62jer/LFQwrNIAbADdtU5xStGY=                 38   \n",
       "18  ++0GCV3WGMjibrwCnDuVZXMoIxs1mnMRaD7rFJFU2Ho=                 35   \n",
       "19  ++0JQqGo/czgqG5qCY31TYkzV7WUMf2QWAS+OeIs//o=                 35   \n",
       "\n",
       "    payment_plan_days  not_auto_renew  msno_count  is_cancel  is_discount  \\\n",
       "0            7.000000               1           1          0            0   \n",
       "1          402.500000               2           2          0            0   \n",
       "2           30.000000               0           5          0            0   \n",
       "3           28.714286               0          21          0            0   \n",
       "4           28.888889               0          27          0            0   \n",
       "5           30.000000               0          13          0            0   \n",
       "6           45.444444               1           9          1            0   \n",
       "7           27.000000               0           9          1            0   \n",
       "8           28.714286               0          21          0            0   \n",
       "9           22.173913               0          23          0            0   \n",
       "10          30.000000               0           5          1            1   \n",
       "11           7.000000               1           1          0            0   \n",
       "12         410.000000               2           2          0            0   \n",
       "13          30.000000               0          13          0            0   \n",
       "14           7.000000               1           1          0            0   \n",
       "15           7.000000               1           1          0            0   \n",
       "16          33.941176              17          17          0            0   \n",
       "17          39.571429               7           7          0            0   \n",
       "18           7.000000               1           1          0            0   \n",
       "19           7.000000               1           1          0            0   \n",
       "\n",
       "    amount_per_day  membership_duration membership_expire_date  city    bd  \\\n",
       "0         0.000000             5.000000             2016-09-14  15.0  28.0   \n",
       "1         4.204538           440.500000             2018-02-06   6.0  22.0   \n",
       "2         3.300000            30.000000             2017-04-15   1.0  10.0   \n",
       "3         4.707271            49.095238             2017-05-19  15.0  26.0   \n",
       "4         4.782716            30.407407             2017-04-26   1.0  10.0   \n",
       "5         4.966667            30.461538             2017-04-15  18.0  21.0   \n",
       "6         4.301158            50.444444             2016-03-01  15.0  32.0   \n",
       "7         4.361410            30.555556             2015-09-25   NaN   NaN   \n",
       "8         4.707271            53.095238             2017-05-23  22.0  32.0   \n",
       "9         3.671015            33.391304             2017-05-04  13.0  39.0   \n",
       "10        3.973333            24.000000             2016-03-10   1.0  10.0   \n",
       "11        0.000000             1.000000             2015-06-15   1.0  10.0   \n",
       "12        4.360976           413.000000             2017-08-21  13.0  32.0   \n",
       "13        4.966667            30.461538             2017-04-20   1.0  10.0   \n",
       "14        0.000000             7.000000             2016-11-27  14.0  21.0   \n",
       "15        0.000000             7.000000             2016-12-03   1.0  10.0   \n",
       "16        4.616177            35.882353             2017-04-26   1.0  10.0   \n",
       "17        4.115476            43.714286             2017-03-31   1.0  10.0   \n",
       "18        0.000000             7.000000             2016-12-02   1.0  10.0   \n",
       "19        0.000000             7.000000             2016-12-06   1.0  10.0   \n",
       "\n",
       "    gender  registered_via registration_init_time  bd_c  \n",
       "0      2.0             9.0             2004-03-27   0.0  \n",
       "1      2.0             3.0             2012-12-24   0.0  \n",
       "2      0.0             7.0             2014-06-08   1.0  \n",
       "3      1.0             9.0             2010-11-18   0.0  \n",
       "4      0.0             7.0             2014-09-27   1.0  \n",
       "5      1.0             7.0             2016-03-15   0.0  \n",
       "6      1.0             3.0             2012-12-17   2.0  \n",
       "7      NaN             NaN                    NaT   NaN  \n",
       "8      1.0             9.0             2012-01-22   2.0  \n",
       "9      1.0             3.0             2014-04-21   2.0  \n",
       "10     0.0             7.0             2015-11-11   1.0  \n",
       "11     0.0             7.0             2010-10-05   1.0  \n",
       "12     1.0             9.0             2010-10-19   2.0  \n",
       "13     0.0             7.0             2016-03-20   1.0  \n",
       "14     1.0             7.0             2013-11-12   0.0  \n",
       "15     0.0             4.0             2016-11-26   1.0  \n",
       "16     0.0             9.0             2015-08-07   1.0  \n",
       "17     0.0             3.0             2013-12-05   1.0  \n",
       "18     0.0             3.0             2012-10-22   1.0  \n",
       "19     0.0             4.0             2015-11-02   1.0  "
      ]
     },
     "execution_count": 202,
     "metadata": {},
     "output_type": "execute_result"
    }
   ],
   "source": [
    "#We see some null values in the gender, city bd registerd_via column, we replace those either with mean(numeric) or mode(categorical)\n",
    "df_group_by.head(20)"
   ]
  },
  {
   "cell_type": "code",
   "execution_count": 203,
   "metadata": {},
   "outputs": [],
   "source": [
    "df_group_by['gender'] = df_group_by['gender'].fillna(0)  #Filled na with zero\n",
    "df_group_by['city'].fillna(df_group_by['city'].mode()[0], inplace=True)  #Filled na with mode\n",
    "df_group_by['bd_c'].fillna(df_group_by['bd_c'].mode()[0], inplace=True) #Filled na with mode\n",
    "df_group_by['bd'].fillna((df_group_by['bd'].mean()), inplace=True)   #Filled na with mean\n",
    "df_group_by['registered_via'].fillna(df_group_by['registered_via'].mode()[0], inplace=True)  #Filled na with mode"
   ]
  },
  {
   "cell_type": "markdown",
   "metadata": {},
   "source": [
    "To calculate the duration of how long the user has been with the KKBox, \n",
    "we take expiration date from transaction and registration_init_time"
   ]
  },
  {
   "cell_type": "code",
   "execution_count": 204,
   "metadata": {},
   "outputs": [],
   "source": [
    "df_group_by['reg_mem_duration'] = df_group_by['membership_expire_date'] - df_group_by['registration_init_time']\n",
    "df_group_by['reg_mem_duration']  = df_group_by['reg_mem_duration']  / np.timedelta64(1, 'D')\n",
    "df_group_by['reg_mem_duration'] = df_group_by['reg_mem_duration'].clip_lower(0)\n",
    "df_group_by['reg_mem_duration'].fillna((df_group_by['reg_mem_duration'].mean()), inplace=True)\n",
    "df_group_by['reg_mem_duration'] = df_group_by['reg_mem_duration'].astype(int)\n",
    "df_group_by['long_time_user'] = (df_group_by['reg_mem_duration']/365).astype(int)"
   ]
  },
  {
   "cell_type": "code",
   "execution_count": 205,
   "metadata": {},
   "outputs": [
    {
     "data": {
      "text/html": [
       "<div>\n",
       "<style scoped>\n",
       "    .dataframe tbody tr th:only-of-type {\n",
       "        vertical-align: middle;\n",
       "    }\n",
       "\n",
       "    .dataframe tbody tr th {\n",
       "        vertical-align: top;\n",
       "    }\n",
       "\n",
       "    .dataframe thead th {\n",
       "        text-align: right;\n",
       "    }\n",
       "</style>\n",
       "<table border=\"1\" class=\"dataframe\">\n",
       "  <thead>\n",
       "    <tr style=\"text-align: right;\">\n",
       "      <th></th>\n",
       "      <th>msno</th>\n",
       "      <th>payment_method_id</th>\n",
       "      <th>payment_plan_days</th>\n",
       "      <th>not_auto_renew</th>\n",
       "      <th>msno_count</th>\n",
       "      <th>is_cancel</th>\n",
       "      <th>is_discount</th>\n",
       "      <th>amount_per_day</th>\n",
       "      <th>membership_duration</th>\n",
       "      <th>membership_expire_date</th>\n",
       "      <th>city</th>\n",
       "      <th>bd</th>\n",
       "      <th>gender</th>\n",
       "      <th>registered_via</th>\n",
       "      <th>registration_init_time</th>\n",
       "      <th>bd_c</th>\n",
       "      <th>reg_mem_duration</th>\n",
       "      <th>long_time_user</th>\n",
       "    </tr>\n",
       "  </thead>\n",
       "  <tbody>\n",
       "    <tr>\n",
       "      <th>0</th>\n",
       "      <td>+++FOrTS7ab3tIgIh8eWwX4FqRv8w/FoiOuyXsFvphY=</td>\n",
       "      <td>35</td>\n",
       "      <td>7.000000</td>\n",
       "      <td>1</td>\n",
       "      <td>1</td>\n",
       "      <td>0</td>\n",
       "      <td>0</td>\n",
       "      <td>0.000000</td>\n",
       "      <td>5.000000</td>\n",
       "      <td>2016-09-14</td>\n",
       "      <td>15.0</td>\n",
       "      <td>28.0</td>\n",
       "      <td>2.0</td>\n",
       "      <td>9.0</td>\n",
       "      <td>2004-03-27</td>\n",
       "      <td>0.0</td>\n",
       "      <td>4554</td>\n",
       "      <td>12</td>\n",
       "    </tr>\n",
       "    <tr>\n",
       "      <th>1</th>\n",
       "      <td>+++IZseRRiQS9aaSkH6cMYU6bGDcxUieAi/tH67sC5s=</td>\n",
       "      <td>22</td>\n",
       "      <td>402.500000</td>\n",
       "      <td>2</td>\n",
       "      <td>2</td>\n",
       "      <td>0</td>\n",
       "      <td>0</td>\n",
       "      <td>4.204538</td>\n",
       "      <td>440.500000</td>\n",
       "      <td>2018-02-06</td>\n",
       "      <td>6.0</td>\n",
       "      <td>22.0</td>\n",
       "      <td>2.0</td>\n",
       "      <td>3.0</td>\n",
       "      <td>2012-12-24</td>\n",
       "      <td>0.0</td>\n",
       "      <td>1870</td>\n",
       "      <td>5</td>\n",
       "    </tr>\n",
       "    <tr>\n",
       "      <th>2</th>\n",
       "      <td>+++hVY1rZox/33YtvDgmKA2Frg/2qhkz12B9ylCvh8o=</td>\n",
       "      <td>41</td>\n",
       "      <td>30.000000</td>\n",
       "      <td>0</td>\n",
       "      <td>5</td>\n",
       "      <td>0</td>\n",
       "      <td>0</td>\n",
       "      <td>3.300000</td>\n",
       "      <td>30.000000</td>\n",
       "      <td>2017-04-15</td>\n",
       "      <td>1.0</td>\n",
       "      <td>10.0</td>\n",
       "      <td>0.0</td>\n",
       "      <td>7.0</td>\n",
       "      <td>2014-06-08</td>\n",
       "      <td>1.0</td>\n",
       "      <td>1042</td>\n",
       "      <td>2</td>\n",
       "    </tr>\n",
       "    <tr>\n",
       "      <th>3</th>\n",
       "      <td>+++l/EXNMLTijfLBa8p2TUVVVp2aFGSuUI/h7mLmthw=</td>\n",
       "      <td>39</td>\n",
       "      <td>28.714286</td>\n",
       "      <td>0</td>\n",
       "      <td>21</td>\n",
       "      <td>0</td>\n",
       "      <td>0</td>\n",
       "      <td>4.707271</td>\n",
       "      <td>49.095238</td>\n",
       "      <td>2017-05-19</td>\n",
       "      <td>15.0</td>\n",
       "      <td>26.0</td>\n",
       "      <td>1.0</td>\n",
       "      <td>9.0</td>\n",
       "      <td>2010-11-18</td>\n",
       "      <td>0.0</td>\n",
       "      <td>2374</td>\n",
       "      <td>6</td>\n",
       "    </tr>\n",
       "    <tr>\n",
       "      <th>4</th>\n",
       "      <td>+++snpr7pmobhLKUgSHTv/mpkqgBT0tQJ0zQj6qKrqc=</td>\n",
       "      <td>41</td>\n",
       "      <td>28.888889</td>\n",
       "      <td>0</td>\n",
       "      <td>27</td>\n",
       "      <td>0</td>\n",
       "      <td>0</td>\n",
       "      <td>4.782716</td>\n",
       "      <td>30.407407</td>\n",
       "      <td>2017-04-26</td>\n",
       "      <td>1.0</td>\n",
       "      <td>10.0</td>\n",
       "      <td>0.0</td>\n",
       "      <td>7.0</td>\n",
       "      <td>2014-09-27</td>\n",
       "      <td>1.0</td>\n",
       "      <td>942</td>\n",
       "      <td>2</td>\n",
       "    </tr>\n",
       "  </tbody>\n",
       "</table>\n",
       "</div>"
      ],
      "text/plain": [
       "                                           msno  payment_method_id  \\\n",
       "0  +++FOrTS7ab3tIgIh8eWwX4FqRv8w/FoiOuyXsFvphY=                 35   \n",
       "1  +++IZseRRiQS9aaSkH6cMYU6bGDcxUieAi/tH67sC5s=                 22   \n",
       "2  +++hVY1rZox/33YtvDgmKA2Frg/2qhkz12B9ylCvh8o=                 41   \n",
       "3  +++l/EXNMLTijfLBa8p2TUVVVp2aFGSuUI/h7mLmthw=                 39   \n",
       "4  +++snpr7pmobhLKUgSHTv/mpkqgBT0tQJ0zQj6qKrqc=                 41   \n",
       "\n",
       "   payment_plan_days  not_auto_renew  msno_count  is_cancel  is_discount  \\\n",
       "0           7.000000               1           1          0            0   \n",
       "1         402.500000               2           2          0            0   \n",
       "2          30.000000               0           5          0            0   \n",
       "3          28.714286               0          21          0            0   \n",
       "4          28.888889               0          27          0            0   \n",
       "\n",
       "   amount_per_day  membership_duration membership_expire_date  city    bd  \\\n",
       "0        0.000000             5.000000             2016-09-14  15.0  28.0   \n",
       "1        4.204538           440.500000             2018-02-06   6.0  22.0   \n",
       "2        3.300000            30.000000             2017-04-15   1.0  10.0   \n",
       "3        4.707271            49.095238             2017-05-19  15.0  26.0   \n",
       "4        4.782716            30.407407             2017-04-26   1.0  10.0   \n",
       "\n",
       "   gender  registered_via registration_init_time  bd_c  reg_mem_duration  \\\n",
       "0     2.0             9.0             2004-03-27   0.0              4554   \n",
       "1     2.0             3.0             2012-12-24   0.0              1870   \n",
       "2     0.0             7.0             2014-06-08   1.0              1042   \n",
       "3     1.0             9.0             2010-11-18   0.0              2374   \n",
       "4     0.0             7.0             2014-09-27   1.0               942   \n",
       "\n",
       "   long_time_user  \n",
       "0              12  \n",
       "1               5  \n",
       "2               2  \n",
       "3               6  \n",
       "4               2  "
      ]
     },
     "execution_count": 205,
     "metadata": {},
     "output_type": "execute_result"
    }
   ],
   "source": [
    "df_group_by.head()"
   ]
  },
  {
   "cell_type": "code",
   "execution_count": 206,
   "metadata": {},
   "outputs": [],
   "source": [
    "drop_columns = ['membership_expire_date' , 'registration_init_time', 'reg_mem_duration'] # to reduce memory usage\n",
    "df_group_by = df_group_by.drop(drop_columns, 1)"
   ]
  },
  {
   "cell_type": "markdown",
   "metadata": {},
   "source": [
    "We use min max scaler (range of which is 0 to 1), also retaining the actual columns in a separate dataframe"
   ]
  },
  {
   "cell_type": "code",
   "execution_count": 207,
   "metadata": {},
   "outputs": [],
   "source": [
    "mms = MinMaxScaler()\n",
    "import copy\n",
    "columns_to_scale =['payment_plan_days','not_auto_renew','msno_count','is_cancel','is_discount','amount_per_day','membership_duration','long_time_user','bd']"
   ]
  },
  {
   "cell_type": "code",
   "execution_count": 208,
   "metadata": {},
   "outputs": [],
   "source": [
    "df_group_by2 = copy.copy(df_group_by)"
   ]
  },
  {
   "cell_type": "code",
   "execution_count": 209,
   "metadata": {},
   "outputs": [],
   "source": [
    "df_group_by2[columns_to_scale] = mms.fit_transform(df_group_by2[columns_to_scale])"
   ]
  },
  {
   "cell_type": "markdown",
   "metadata": {},
   "source": [
    "We do Label encoding for the categorical features, which results in many columns"
   ]
  },
  {
   "cell_type": "code",
   "execution_count": 210,
   "metadata": {},
   "outputs": [],
   "source": [
    "categorical_features = ['payment_method_id','city','registered_via']"
   ]
  },
  {
   "cell_type": "code",
   "execution_count": 211,
   "metadata": {},
   "outputs": [],
   "source": [
    "df_group_by2[categorical_features] = df_group_by2[categorical_features].apply(preprocessing.LabelEncoder().fit_transform)"
   ]
  },
  {
   "cell_type": "code",
   "execution_count": 212,
   "metadata": {},
   "outputs": [
    {
     "data": {
      "text/html": [
       "<div>\n",
       "<style scoped>\n",
       "    .dataframe tbody tr th:only-of-type {\n",
       "        vertical-align: middle;\n",
       "    }\n",
       "\n",
       "    .dataframe tbody tr th {\n",
       "        vertical-align: top;\n",
       "    }\n",
       "\n",
       "    .dataframe thead th {\n",
       "        text-align: right;\n",
       "    }\n",
       "</style>\n",
       "<table border=\"1\" class=\"dataframe\">\n",
       "  <thead>\n",
       "    <tr style=\"text-align: right;\">\n",
       "      <th></th>\n",
       "      <th>msno</th>\n",
       "      <th>payment_method_id</th>\n",
       "      <th>payment_plan_days</th>\n",
       "      <th>not_auto_renew</th>\n",
       "      <th>msno_count</th>\n",
       "      <th>is_cancel</th>\n",
       "      <th>is_discount</th>\n",
       "      <th>amount_per_day</th>\n",
       "      <th>membership_duration</th>\n",
       "      <th>city</th>\n",
       "      <th>bd</th>\n",
       "      <th>gender</th>\n",
       "      <th>registered_via</th>\n",
       "      <th>bd_c</th>\n",
       "      <th>long_time_user</th>\n",
       "    </tr>\n",
       "  </thead>\n",
       "  <tbody>\n",
       "    <tr>\n",
       "      <th>0</th>\n",
       "      <td>+++FOrTS7ab3tIgIh8eWwX4FqRv8w/FoiOuyXsFvphY=</td>\n",
       "      <td>33</td>\n",
       "      <td>0.015556</td>\n",
       "      <td>0.004098</td>\n",
       "      <td>0.000000</td>\n",
       "      <td>0.0</td>\n",
       "      <td>0.0</td>\n",
       "      <td>0.000000</td>\n",
       "      <td>0.001382</td>\n",
       "      <td>13</td>\n",
       "      <td>0.200000</td>\n",
       "      <td>2.0</td>\n",
       "      <td>3</td>\n",
       "      <td>0.0</td>\n",
       "      <td>0.545455</td>\n",
       "    </tr>\n",
       "    <tr>\n",
       "      <th>1</th>\n",
       "      <td>+++IZseRRiQS9aaSkH6cMYU6bGDcxUieAi/tH67sC5s=</td>\n",
       "      <td>20</td>\n",
       "      <td>0.894444</td>\n",
       "      <td>0.008197</td>\n",
       "      <td>0.004115</td>\n",
       "      <td>0.0</td>\n",
       "      <td>0.0</td>\n",
       "      <td>0.554580</td>\n",
       "      <td>0.121752</td>\n",
       "      <td>4</td>\n",
       "      <td>0.133333</td>\n",
       "      <td>2.0</td>\n",
       "      <td>0</td>\n",
       "      <td>0.0</td>\n",
       "      <td>0.227273</td>\n",
       "    </tr>\n",
       "    <tr>\n",
       "      <th>2</th>\n",
       "      <td>+++hVY1rZox/33YtvDgmKA2Frg/2qhkz12B9ylCvh8o=</td>\n",
       "      <td>39</td>\n",
       "      <td>0.066667</td>\n",
       "      <td>0.000000</td>\n",
       "      <td>0.016461</td>\n",
       "      <td>0.0</td>\n",
       "      <td>0.0</td>\n",
       "      <td>0.435271</td>\n",
       "      <td>0.008292</td>\n",
       "      <td>0</td>\n",
       "      <td>0.000000</td>\n",
       "      <td>0.0</td>\n",
       "      <td>2</td>\n",
       "      <td>1.0</td>\n",
       "      <td>0.090909</td>\n",
       "    </tr>\n",
       "    <tr>\n",
       "      <th>3</th>\n",
       "      <td>+++l/EXNMLTijfLBa8p2TUVVVp2aFGSuUI/h7mLmthw=</td>\n",
       "      <td>37</td>\n",
       "      <td>0.063810</td>\n",
       "      <td>0.000000</td>\n",
       "      <td>0.082305</td>\n",
       "      <td>0.0</td>\n",
       "      <td>0.0</td>\n",
       "      <td>0.620891</td>\n",
       "      <td>0.013570</td>\n",
       "      <td>13</td>\n",
       "      <td>0.177778</td>\n",
       "      <td>1.0</td>\n",
       "      <td>3</td>\n",
       "      <td>0.0</td>\n",
       "      <td>0.272727</td>\n",
       "    </tr>\n",
       "    <tr>\n",
       "      <th>4</th>\n",
       "      <td>+++snpr7pmobhLKUgSHTv/mpkqgBT0tQJ0zQj6qKrqc=</td>\n",
       "      <td>39</td>\n",
       "      <td>0.064198</td>\n",
       "      <td>0.000000</td>\n",
       "      <td>0.106996</td>\n",
       "      <td>0.0</td>\n",
       "      <td>0.0</td>\n",
       "      <td>0.630842</td>\n",
       "      <td>0.008404</td>\n",
       "      <td>0</td>\n",
       "      <td>0.000000</td>\n",
       "      <td>0.0</td>\n",
       "      <td>2</td>\n",
       "      <td>1.0</td>\n",
       "      <td>0.090909</td>\n",
       "    </tr>\n",
       "  </tbody>\n",
       "</table>\n",
       "</div>"
      ],
      "text/plain": [
       "                                           msno  payment_method_id  \\\n",
       "0  +++FOrTS7ab3tIgIh8eWwX4FqRv8w/FoiOuyXsFvphY=                 33   \n",
       "1  +++IZseRRiQS9aaSkH6cMYU6bGDcxUieAi/tH67sC5s=                 20   \n",
       "2  +++hVY1rZox/33YtvDgmKA2Frg/2qhkz12B9ylCvh8o=                 39   \n",
       "3  +++l/EXNMLTijfLBa8p2TUVVVp2aFGSuUI/h7mLmthw=                 37   \n",
       "4  +++snpr7pmobhLKUgSHTv/mpkqgBT0tQJ0zQj6qKrqc=                 39   \n",
       "\n",
       "   payment_plan_days  not_auto_renew  msno_count  is_cancel  is_discount  \\\n",
       "0           0.015556        0.004098    0.000000        0.0          0.0   \n",
       "1           0.894444        0.008197    0.004115        0.0          0.0   \n",
       "2           0.066667        0.000000    0.016461        0.0          0.0   \n",
       "3           0.063810        0.000000    0.082305        0.0          0.0   \n",
       "4           0.064198        0.000000    0.106996        0.0          0.0   \n",
       "\n",
       "   amount_per_day  membership_duration  city        bd  gender  \\\n",
       "0        0.000000             0.001382    13  0.200000     2.0   \n",
       "1        0.554580             0.121752     4  0.133333     2.0   \n",
       "2        0.435271             0.008292     0  0.000000     0.0   \n",
       "3        0.620891             0.013570    13  0.177778     1.0   \n",
       "4        0.630842             0.008404     0  0.000000     0.0   \n",
       "\n",
       "   registered_via  bd_c  long_time_user  \n",
       "0               3   0.0        0.545455  \n",
       "1               0   0.0        0.227273  \n",
       "2               2   1.0        0.090909  \n",
       "3               3   0.0        0.272727  \n",
       "4               2   1.0        0.090909  "
      ]
     },
     "execution_count": 212,
     "metadata": {},
     "output_type": "execute_result"
    }
   ],
   "source": [
    "df_group_by2.head()"
   ]
  },
  {
   "cell_type": "markdown",
   "metadata": {},
   "source": [
    "Now we merge this groupby2 with test and training data"
   ]
  },
  {
   "cell_type": "code",
   "execution_count": 213,
   "metadata": {},
   "outputs": [],
   "source": [
    "df_train = pd.merge( df_train , df_group_by2 , on = 'msno' , how = 'inner' )\n",
    "df_test = pd.merge( df_test , df_group_by2 , on = 'msno' , how = 'inner' )"
   ]
  },
  {
   "cell_type": "markdown",
   "metadata": {},
   "source": [
    "Again we change the data type to reduce memory usage"
   ]
  },
  {
   "cell_type": "code",
   "execution_count": 214,
   "metadata": {},
   "outputs": [],
   "source": [
    "change_int_datatype_cols(df_test )\n",
    "change_float_datatype_cols(df_test )\n",
    "change_int_datatype_cols(df_train)\n",
    "change_float_datatype_cols(df_train)"
   ]
  },
  {
   "cell_type": "markdown",
   "metadata": {},
   "source": [
    "#### Now we plot the correlation heat map between these features of train "
   ]
  },
  {
   "cell_type": "code",
   "execution_count": 215,
   "metadata": {},
   "outputs": [
    {
     "data": {
      "image/png": "[encoded data removed]",
      "text/plain": [
       "<matplotlib.figure.Figure at 0x13c5a3484a8>"
      ]
     },
     "metadata": {},
     "output_type": "display_data"
    }
   ],
   "source": [
    "f, ax = plt.subplots(figsize=(10, 10))\n",
    "correlation_df = df_train.corr()\n",
    "sns.heatmap(correlation_df, mask=np.zeros_like(correlation_df, dtype=np.bool), cmap=sns.diverging_palette(220, 10, as_cmap=True))\n",
    "plt.show()"
   ]
  },
  {
   "cell_type": "code",
   "execution_count": 216,
   "metadata": {},
   "outputs": [
    {
     "data": {
      "text/html": [
       "<div>\n",
       "<style scoped>\n",
       "    .dataframe tbody tr th:only-of-type {\n",
       "        vertical-align: middle;\n",
       "    }\n",
       "\n",
       "    .dataframe tbody tr th {\n",
       "        vertical-align: top;\n",
       "    }\n",
       "\n",
       "    .dataframe thead th {\n",
       "        text-align: right;\n",
       "    }\n",
       "</style>\n",
       "<table border=\"1\" class=\"dataframe\">\n",
       "  <thead>\n",
       "    <tr style=\"text-align: right;\">\n",
       "      <th></th>\n",
       "      <th>is_churn</th>\n",
       "      <th>payment_method_id</th>\n",
       "      <th>payment_plan_days</th>\n",
       "      <th>not_auto_renew</th>\n",
       "      <th>msno_count</th>\n",
       "      <th>is_cancel</th>\n",
       "      <th>is_discount</th>\n",
       "      <th>amount_per_day</th>\n",
       "      <th>membership_duration</th>\n",
       "      <th>city</th>\n",
       "      <th>bd</th>\n",
       "      <th>gender</th>\n",
       "      <th>registered_via</th>\n",
       "      <th>bd_c</th>\n",
       "      <th>long_time_user</th>\n",
       "    </tr>\n",
       "  </thead>\n",
       "  <tbody>\n",
       "    <tr>\n",
       "      <th>is_churn</th>\n",
       "      <td>1.000000</td>\n",
       "      <td>-0.187940</td>\n",
       "      <td>0.314129</td>\n",
       "      <td>0.172896</td>\n",
       "      <td>-0.163991</td>\n",
       "      <td>0.134477</td>\n",
       "      <td>0.008634</td>\n",
       "      <td>0.070561</td>\n",
       "      <td>0.295386</td>\n",
       "      <td>0.069257</td>\n",
       "      <td>0.048589</td>\n",
       "      <td>0.088017</td>\n",
       "      <td>-0.065922</td>\n",
       "      <td>-0.045156</td>\n",
       "      <td>-0.002299</td>\n",
       "    </tr>\n",
       "    <tr>\n",
       "      <th>payment_method_id</th>\n",
       "      <td>-0.187940</td>\n",
       "      <td>1.000000</td>\n",
       "      <td>-0.262688</td>\n",
       "      <td>-0.207016</td>\n",
       "      <td>0.137720</td>\n",
       "      <td>0.073059</td>\n",
       "      <td>0.074641</td>\n",
       "      <td>-0.244446</td>\n",
       "      <td>-0.145431</td>\n",
       "      <td>-0.301722</td>\n",
       "      <td>-0.317026</td>\n",
       "      <td>-0.336141</td>\n",
       "      <td>-0.022417</td>\n",
       "      <td>0.020418</td>\n",
       "      <td>-0.236535</td>\n",
       "    </tr>\n",
       "    <tr>\n",
       "      <th>payment_plan_days</th>\n",
       "      <td>0.314129</td>\n",
       "      <td>-0.262688</td>\n",
       "      <td>1.000000</td>\n",
       "      <td>0.062250</td>\n",
       "      <td>-0.238430</td>\n",
       "      <td>-0.055415</td>\n",
       "      <td>-0.030305</td>\n",
       "      <td>0.023321</td>\n",
       "      <td>0.643333</td>\n",
       "      <td>0.086875</td>\n",
       "      <td>0.076751</td>\n",
       "      <td>0.095427</td>\n",
       "      <td>-0.017456</td>\n",
       "      <td>-0.018963</td>\n",
       "      <td>0.032322</td>\n",
       "    </tr>\n",
       "    <tr>\n",
       "      <th>not_auto_renew</th>\n",
       "      <td>0.172896</td>\n",
       "      <td>-0.207016</td>\n",
       "      <td>0.062250</td>\n",
       "      <td>1.000000</td>\n",
       "      <td>-0.027795</td>\n",
       "      <td>-0.047762</td>\n",
       "      <td>-0.057805</td>\n",
       "      <td>0.291857</td>\n",
       "      <td>0.035958</td>\n",
       "      <td>0.165277</td>\n",
       "      <td>0.055616</td>\n",
       "      <td>0.199984</td>\n",
       "      <td>-0.139402</td>\n",
       "      <td>-0.170460</td>\n",
       "      <td>-0.002901</td>\n",
       "    </tr>\n",
       "    <tr>\n",
       "      <th>msno_count</th>\n",
       "      <td>-0.163991</td>\n",
       "      <td>0.137720</td>\n",
       "      <td>-0.238430</td>\n",
       "      <td>-0.027795</td>\n",
       "      <td>1.000000</td>\n",
       "      <td>0.373683</td>\n",
       "      <td>0.271474</td>\n",
       "      <td>0.175469</td>\n",
       "      <td>0.023336</td>\n",
       "      <td>0.121906</td>\n",
       "      <td>0.162987</td>\n",
       "      <td>0.137285</td>\n",
       "      <td>0.142896</td>\n",
       "      <td>0.054650</td>\n",
       "      <td>0.423808</td>\n",
       "    </tr>\n",
       "    <tr>\n",
       "      <th>is_cancel</th>\n",
       "      <td>0.134477</td>\n",
       "      <td>0.073059</td>\n",
       "      <td>-0.055415</td>\n",
       "      <td>-0.047762</td>\n",
       "      <td>0.373683</td>\n",
       "      <td>1.000000</td>\n",
       "      <td>0.290014</td>\n",
       "      <td>0.117723</td>\n",
       "      <td>0.136209</td>\n",
       "      <td>0.068007</td>\n",
       "      <td>0.032335</td>\n",
       "      <td>0.066181</td>\n",
       "      <td>0.015280</td>\n",
       "      <td>-0.036075</td>\n",
       "      <td>0.111147</td>\n",
       "    </tr>\n",
       "    <tr>\n",
       "      <th>is_discount</th>\n",
       "      <td>0.008634</td>\n",
       "      <td>0.074641</td>\n",
       "      <td>-0.030305</td>\n",
       "      <td>-0.057805</td>\n",
       "      <td>0.271474</td>\n",
       "      <td>0.290014</td>\n",
       "      <td>1.000000</td>\n",
       "      <td>0.006564</td>\n",
       "      <td>0.140366</td>\n",
       "      <td>-0.041750</td>\n",
       "      <td>-0.045328</td>\n",
       "      <td>-0.032613</td>\n",
       "      <td>0.005275</td>\n",
       "      <td>0.005236</td>\n",
       "      <td>0.023099</td>\n",
       "    </tr>\n",
       "    <tr>\n",
       "      <th>amount_per_day</th>\n",
       "      <td>0.070561</td>\n",
       "      <td>-0.244446</td>\n",
       "      <td>0.023321</td>\n",
       "      <td>0.291857</td>\n",
       "      <td>0.175469</td>\n",
       "      <td>0.117723</td>\n",
       "      <td>0.006564</td>\n",
       "      <td>1.000000</td>\n",
       "      <td>0.053404</td>\n",
       "      <td>0.345420</td>\n",
       "      <td>0.251385</td>\n",
       "      <td>0.376904</td>\n",
       "      <td>-0.140990</td>\n",
       "      <td>-0.095930</td>\n",
       "      <td>0.182826</td>\n",
       "    </tr>\n",
       "    <tr>\n",
       "      <th>membership_duration</th>\n",
       "      <td>0.295386</td>\n",
       "      <td>-0.145431</td>\n",
       "      <td>0.643333</td>\n",
       "      <td>0.035958</td>\n",
       "      <td>0.023336</td>\n",
       "      <td>0.136209</td>\n",
       "      <td>0.140366</td>\n",
       "      <td>0.053404</td>\n",
       "      <td>1.000000</td>\n",
       "      <td>0.074202</td>\n",
       "      <td>0.069415</td>\n",
       "      <td>0.083741</td>\n",
       "      <td>0.001274</td>\n",
       "      <td>-0.004033</td>\n",
       "      <td>0.100971</td>\n",
       "    </tr>\n",
       "    <tr>\n",
       "      <th>city</th>\n",
       "      <td>0.069257</td>\n",
       "      <td>-0.301722</td>\n",
       "      <td>0.086875</td>\n",
       "      <td>0.165277</td>\n",
       "      <td>0.121906</td>\n",
       "      <td>0.068007</td>\n",
       "      <td>-0.041750</td>\n",
       "      <td>0.345420</td>\n",
       "      <td>0.074202</td>\n",
       "      <td>1.000000</td>\n",
       "      <td>0.536297</td>\n",
       "      <td>0.620610</td>\n",
       "      <td>0.022416</td>\n",
       "      <td>-0.088926</td>\n",
       "      <td>0.343506</td>\n",
       "    </tr>\n",
       "    <tr>\n",
       "      <th>bd</th>\n",
       "      <td>0.048589</td>\n",
       "      <td>-0.317026</td>\n",
       "      <td>0.076751</td>\n",
       "      <td>0.055616</td>\n",
       "      <td>0.162987</td>\n",
       "      <td>0.032335</td>\n",
       "      <td>-0.045328</td>\n",
       "      <td>0.251385</td>\n",
       "      <td>0.069415</td>\n",
       "      <td>0.536297</td>\n",
       "      <td>1.000000</td>\n",
       "      <td>0.708026</td>\n",
       "      <td>0.110397</td>\n",
       "      <td>0.317850</td>\n",
       "      <td>0.484050</td>\n",
       "    </tr>\n",
       "    <tr>\n",
       "      <th>gender</th>\n",
       "      <td>0.088017</td>\n",
       "      <td>-0.336141</td>\n",
       "      <td>0.095427</td>\n",
       "      <td>0.199984</td>\n",
       "      <td>0.137285</td>\n",
       "      <td>0.066181</td>\n",
       "      <td>-0.032613</td>\n",
       "      <td>0.376904</td>\n",
       "      <td>0.083741</td>\n",
       "      <td>0.620610</td>\n",
       "      <td>0.708026</td>\n",
       "      <td>1.000000</td>\n",
       "      <td>0.019019</td>\n",
       "      <td>-0.083151</td>\n",
       "      <td>0.411928</td>\n",
       "    </tr>\n",
       "    <tr>\n",
       "      <th>registered_via</th>\n",
       "      <td>-0.065922</td>\n",
       "      <td>-0.022417</td>\n",
       "      <td>-0.017456</td>\n",
       "      <td>-0.139402</td>\n",
       "      <td>0.142896</td>\n",
       "      <td>0.015280</td>\n",
       "      <td>0.005275</td>\n",
       "      <td>-0.140990</td>\n",
       "      <td>0.001274</td>\n",
       "      <td>0.022416</td>\n",
       "      <td>0.110397</td>\n",
       "      <td>0.019019</td>\n",
       "      <td>1.000000</td>\n",
       "      <td>0.129579</td>\n",
       "      <td>0.365636</td>\n",
       "    </tr>\n",
       "    <tr>\n",
       "      <th>bd_c</th>\n",
       "      <td>-0.045156</td>\n",
       "      <td>0.020418</td>\n",
       "      <td>-0.018963</td>\n",
       "      <td>-0.170460</td>\n",
       "      <td>0.054650</td>\n",
       "      <td>-0.036075</td>\n",
       "      <td>0.005236</td>\n",
       "      <td>-0.095930</td>\n",
       "      <td>-0.004033</td>\n",
       "      <td>-0.088926</td>\n",
       "      <td>0.317850</td>\n",
       "      <td>-0.083151</td>\n",
       "      <td>0.129579</td>\n",
       "      <td>1.000000</td>\n",
       "      <td>0.108721</td>\n",
       "    </tr>\n",
       "    <tr>\n",
       "      <th>long_time_user</th>\n",
       "      <td>-0.002299</td>\n",
       "      <td>-0.236535</td>\n",
       "      <td>0.032322</td>\n",
       "      <td>-0.002901</td>\n",
       "      <td>0.423808</td>\n",
       "      <td>0.111147</td>\n",
       "      <td>0.023099</td>\n",
       "      <td>0.182826</td>\n",
       "      <td>0.100971</td>\n",
       "      <td>0.343506</td>\n",
       "      <td>0.484050</td>\n",
       "      <td>0.411928</td>\n",
       "      <td>0.365636</td>\n",
       "      <td>0.108721</td>\n",
       "      <td>1.000000</td>\n",
       "    </tr>\n",
       "  </tbody>\n",
       "</table>\n",
       "</div>"
      ],
      "text/plain": [
       "                     is_churn  payment_method_id  payment_plan_days  \\\n",
       "is_churn             1.000000          -0.187940           0.314129   \n",
       "payment_method_id   -0.187940           1.000000          -0.262688   \n",
       "payment_plan_days    0.314129          -0.262688           1.000000   \n",
       "not_auto_renew       0.172896          -0.207016           0.062250   \n",
       "msno_count          -0.163991           0.137720          -0.238430   \n",
       "is_cancel            0.134477           0.073059          -0.055415   \n",
       "is_discount          0.008634           0.074641          -0.030305   \n",
       "amount_per_day       0.070561          -0.244446           0.023321   \n",
       "membership_duration  0.295386          -0.145431           0.643333   \n",
       "city                 0.069257          -0.301722           0.086875   \n",
       "bd                   0.048589          -0.317026           0.076751   \n",
       "gender               0.088017          -0.336141           0.095427   \n",
       "registered_via      -0.065922          -0.022417          -0.017456   \n",
       "bd_c                -0.045156           0.020418          -0.018963   \n",
       "long_time_user      -0.002299          -0.236535           0.032322   \n",
       "\n",
       "                     not_auto_renew  msno_count  is_cancel  is_discount  \\\n",
       "is_churn                   0.172896   -0.163991   0.134477     0.008634   \n",
       "payment_method_id         -0.207016    0.137720   0.073059     0.074641   \n",
       "payment_plan_days          0.062250   -0.238430  -0.055415    -0.030305   \n",
       "not_auto_renew             1.000000   -0.027795  -0.047762    -0.057805   \n",
       "msno_count                -0.027795    1.000000   0.373683     0.271474   \n",
       "is_cancel                 -0.047762    0.373683   1.000000     0.290014   \n",
       "is_discount               -0.057805    0.271474   0.290014     1.000000   \n",
       "amount_per_day             0.291857    0.175469   0.117723     0.006564   \n",
       "membership_duration        0.035958    0.023336   0.136209     0.140366   \n",
       "city                       0.165277    0.121906   0.068007    -0.041750   \n",
       "bd                         0.055616    0.162987   0.032335    -0.045328   \n",
       "gender                     0.199984    0.137285   0.066181    -0.032613   \n",
       "registered_via            -0.139402    0.142896   0.015280     0.005275   \n",
       "bd_c                      -0.170460    0.054650  -0.036075     0.005236   \n",
       "long_time_user            -0.002901    0.423808   0.111147     0.023099   \n",
       "\n",
       "                     amount_per_day  membership_duration      city        bd  \\\n",
       "is_churn                   0.070561             0.295386  0.069257  0.048589   \n",
       "payment_method_id         -0.244446            -0.145431 -0.301722 -0.317026   \n",
       "payment_plan_days          0.023321             0.643333  0.086875  0.076751   \n",
       "not_auto_renew             0.291857             0.035958  0.165277  0.055616   \n",
       "msno_count                 0.175469             0.023336  0.121906  0.162987   \n",
       "is_cancel                  0.117723             0.136209  0.068007  0.032335   \n",
       "is_discount                0.006564             0.140366 -0.041750 -0.045328   \n",
       "amount_per_day             1.000000             0.053404  0.345420  0.251385   \n",
       "membership_duration        0.053404             1.000000  0.074202  0.069415   \n",
       "city                       0.345420             0.074202  1.000000  0.536297   \n",
       "bd                         0.251385             0.069415  0.536297  1.000000   \n",
       "gender                     0.376904             0.083741  0.620610  0.708026   \n",
       "registered_via            -0.140990             0.001274  0.022416  0.110397   \n",
       "bd_c                      -0.095930            -0.004033 -0.088926  0.317850   \n",
       "long_time_user             0.182826             0.100971  0.343506  0.484050   \n",
       "\n",
       "                       gender  registered_via      bd_c  long_time_user  \n",
       "is_churn             0.088017       -0.065922 -0.045156       -0.002299  \n",
       "payment_method_id   -0.336141       -0.022417  0.020418       -0.236535  \n",
       "payment_plan_days    0.095427       -0.017456 -0.018963        0.032322  \n",
       "not_auto_renew       0.199984       -0.139402 -0.170460       -0.002901  \n",
       "msno_count           0.137285        0.142896  0.054650        0.423808  \n",
       "is_cancel            0.066181        0.015280 -0.036075        0.111147  \n",
       "is_discount         -0.032613        0.005275  0.005236        0.023099  \n",
       "amount_per_day       0.376904       -0.140990 -0.095930        0.182826  \n",
       "membership_duration  0.083741        0.001274 -0.004033        0.100971  \n",
       "city                 0.620610        0.022416 -0.088926        0.343506  \n",
       "bd                   0.708026        0.110397  0.317850        0.484050  \n",
       "gender               1.000000        0.019019 -0.083151        0.411928  \n",
       "registered_via       0.019019        1.000000  0.129579        0.365636  \n",
       "bd_c                -0.083151        0.129579  1.000000        0.108721  \n",
       "long_time_user       0.411928        0.365636  0.108721        1.000000  "
      ]
     },
     "execution_count": 216,
     "metadata": {},
     "output_type": "execute_result"
    }
   ],
   "source": [
    "df_train.corr()"
   ]
  },
  {
   "cell_type": "markdown",
   "metadata": {},
   "source": [
    "Observation :\n",
    "    High Negative correlation between is_churn and payment_id, msno_count. \n",
    "    High Positive correlation between is_churn and payment_plan_days, not_auto_renew, is_cancel, membership_duration. "
   ]
  },
  {
   "cell_type": "markdown",
   "metadata": {},
   "source": [
    "#### We take the output variable from the tarin data"
   ]
  },
  {
   "cell_type": "code",
   "execution_count": 217,
   "metadata": {},
   "outputs": [],
   "source": [
    "y = df_train['is_churn']\n",
    "X = df_train.loc[:, df_train.columns != 'is_churn']"
   ]
  },
  {
   "cell_type": "markdown",
   "metadata": {},
   "source": [
    "#### Splitting the matrices into train and test data"
   ]
  },
  {
   "cell_type": "code",
   "execution_count": 218,
   "metadata": {},
   "outputs": [],
   "source": [
    "X_train, X_test, y_train, y_test = train_test_split( X, y, test_size=0.3, random_state=0)"
   ]
  },
  {
   "cell_type": "code",
   "execution_count": 219,
   "metadata": {},
   "outputs": [
    {
     "name": "stdout",
     "output_type": "stream",
     "text": [
      "<class 'pandas.core.frame.DataFrame'>\n",
      "Int64Index: 1374723 entries, 1608862 to 305711\n",
      "Data columns (total 15 columns):\n",
      "msno                   1374723 non-null object\n",
      "payment_method_id      1374723 non-null int64\n",
      "payment_plan_days      1374723 non-null float32\n",
      "not_auto_renew         1374723 non-null float32\n",
      "msno_count             1374723 non-null float32\n",
      "is_cancel              1374723 non-null float32\n",
      "is_discount            1374723 non-null float32\n",
      "amount_per_day         1374723 non-null float32\n",
      "membership_duration    1374723 non-null float32\n",
      "city                   1374723 non-null int64\n",
      "bd                     1374723 non-null float32\n",
      "gender                 1374723 non-null float32\n",
      "registered_via         1374723 non-null int64\n",
      "bd_c                   1374723 non-null float32\n",
      "long_time_user         1374723 non-null float32\n",
      "dtypes: float32(11), int64(3), object(1)\n",
      "memory usage: 110.1+ MB\n"
     ]
    }
   ],
   "source": [
    "X_train.info()"
   ]
  },
  {
   "cell_type": "markdown",
   "metadata": {},
   "source": [
    "We leave out the categorical columns"
   ]
  },
  {
   "cell_type": "code",
   "execution_count": 220,
   "metadata": {},
   "outputs": [],
   "source": [
    "columns = [col for col in X_train.columns if col not in ['msno','bd_c']]"
   ]
  },
  {
   "cell_type": "code",
   "execution_count": 221,
   "metadata": {},
   "outputs": [
    {
     "name": "stderr",
     "output_type": "stream",
     "text": [
      "C:\\Users\\ajayc\\Anaconda3\\lib\\site-packages\\matplotlib\\cbook\\deprecation.py:106: MatplotlibDeprecationWarning: Adding an axes using the same arguments as a previous axes currently reuses the earlier instance.  In a future version, a new instance will always be created and returned.  Meanwhile, this warning can be suppressed, and the future behavior ensured, by passing a unique label to each axes instance.\n",
      "  warnings.warn(message, mplDeprecation, stacklevel=1)\n"
     ]
    },
    {
     "data": {
      "text/plain": [
       "Text(0,0.5,'count')"
      ]
     },
     "execution_count": 221,
     "metadata": {},
     "output_type": "execute_result"
    },
    {
     "data": {
      "image/png": "[encoded data removed]",
      "text/plain": [
       "<matplotlib.figure.Figure at 0x13c5bf8df98>"
      ]
     },
     "metadata": {},
     "output_type": "display_data"
    }
   ],
   "source": [
    "df_train.hist(column=\"is_churn\",bins = range(0,3), align='left',color = 'y')\n",
    "xticks(range(-1,2))\n",
    "ax = pyplot.axes()\n",
    "ax.xaxis.set_major_locator(ticker.MultipleLocator(1))\n",
    "pyplot.xlabel('is_churn')  \n",
    "pyplot.ylabel('count')  "
   ]
  },
  {
   "cell_type": "markdown",
   "metadata": {},
   "source": [
    "Class Imbalance and Undersampling"
   ]
  },
  {
   "cell_type": "code",
   "execution_count": 222,
   "metadata": {},
   "outputs": [
    {
     "name": "stderr",
     "output_type": "stream",
     "text": [
      "C:\\Users\\ajayc\\Anaconda3\\lib\\site-packages\\ipykernel_launcher.py:6: DeprecationWarning: \n",
      ".ix is deprecated. Please use\n",
      ".loc for label based indexing or\n",
      ".iloc for positional indexing\n",
      "\n",
      "See the documentation here:\n",
      "http://pandas.pydata.org/pandas-docs/stable/indexing.html#ix-indexer-is-deprecated\n",
      "  \n",
      "C:\\Users\\ajayc\\Anaconda3\\lib\\site-packages\\ipykernel_launcher.py:8: DeprecationWarning: \n",
      ".ix is deprecated. Please use\n",
      ".loc for label based indexing or\n",
      ".iloc for positional indexing\n",
      "\n",
      "See the documentation here:\n",
      "http://pandas.pydata.org/pandas-docs/stable/indexing.html#ix-indexer-is-deprecated\n",
      "  \n"
     ]
    }
   ],
   "source": [
    "#Taking random samples to avoid undersampling\n",
    "random_sample_size = sum(y_train == 1)\n",
    "churn0_index = y_train[y_train == 0].index\n",
    "random_indices = np.random.choice(churn0_index, random_sample_size*5)\n",
    "random_indices = list(random_indices)\n",
    "churn0_data = X_train.ix[random_indices]\n",
    "churn1_data = X_train.ix[y_train[y_train == 1].index]\n",
    "y0_data = y_train.ix[random_indices]\n",
    "y1_data = y_train[y_train == 1]\n",
    "X_final = pd.concat([churn0_data, churn1_data])\n",
    "y_final = pd.concat([y0_data,y1_data])"
   ]
  },
  {
   "cell_type": "code",
   "execution_count": 223,
   "metadata": {},
   "outputs": [
    {
     "data": {
      "text/plain": [
       "1269315"
      ]
     },
     "execution_count": 223,
     "metadata": {},
     "output_type": "execute_result"
    }
   ],
   "source": [
    "len(churn0_index)"
   ]
  },
  {
   "cell_type": "markdown",
   "metadata": {},
   "source": [
    "### Parameter Selection"
   ]
  },
  {
   "cell_type": "markdown",
   "metadata": {},
   "source": [
    "#### We apply grid search to filter out best parameters for the prediction"
   ]
  },
  {
   "cell_type": "code",
   "execution_count": 224,
   "metadata": {},
   "outputs": [],
   "source": [
    "from sklearn.model_selection import GridSearchCV\n",
    "\n",
    "param_grid = {\n",
    "                 'n_estimators': [5, 10, 15, 20],\n",
    "                 'max_depth': [2, 5, 7, 9],\n",
    "               \n",
    "             }"
   ]
  },
  {
   "cell_type": "code",
   "execution_count": 225,
   "metadata": {},
   "outputs": [],
   "source": [
    "rdf_clf = RandomForestClassifier()"
   ]
  },
  {
   "cell_type": "markdown",
   "metadata": {},
   "source": [
    "K fold cross validation with k = 10 "
   ]
  },
  {
   "cell_type": "code",
   "execution_count": 226,
   "metadata": {},
   "outputs": [
    {
     "data": {
      "text/plain": [
       "GridSearchCV(cv=10, error_score='raise',\n",
       "       estimator=RandomForestClassifier(bootstrap=True, class_weight=None, criterion='gini',\n",
       "            max_depth=None, max_features='auto', max_leaf_nodes=None,\n",
       "            min_impurity_decrease=0.0, min_impurity_split=None,\n",
       "            min_samples_leaf=1, min_samples_split=2,\n",
       "            min_weight_fraction_leaf=0.0, n_estimators=10, n_jobs=1,\n",
       "            oob_score=False, random_state=None, verbose=0,\n",
       "            warm_start=False),\n",
       "       fit_params=None, iid=True, n_jobs=1,\n",
       "       param_grid={'n_estimators': [5, 10, 15, 20], 'max_depth': [2, 5, 7, 9]},\n",
       "       pre_dispatch='2*n_jobs', refit=True, return_train_score='warn',\n",
       "       scoring=None, verbose=0)"
      ]
     },
     "execution_count": 226,
     "metadata": {},
     "output_type": "execute_result"
    }
   ],
   "source": [
    "grid_clf = GridSearchCV(rdf_clf, param_grid, cv=10)\n",
    "grid_clf.fit(X_final[columns], y_final)"
   ]
  },
  {
   "cell_type": "code",
   "execution_count": 227,
   "metadata": {},
   "outputs": [
    {
     "data": {
      "text/plain": [
       "RandomForestClassifier(bootstrap=True, class_weight=None, criterion='gini',\n",
       "            max_depth=9, max_features='auto', max_leaf_nodes=None,\n",
       "            min_impurity_decrease=0.0, min_impurity_split=None,\n",
       "            min_samples_leaf=1, min_samples_split=2,\n",
       "            min_weight_fraction_leaf=0.0, n_estimators=20, n_jobs=1,\n",
       "            oob_score=False, random_state=None, verbose=0,\n",
       "            warm_start=False)"
      ]
     },
     "execution_count": 227,
     "metadata": {},
     "output_type": "execute_result"
    }
   ],
   "source": [
    "grid_clf.best_estimator_"
   ]
  },
  {
   "cell_type": "code",
   "execution_count": 228,
   "metadata": {},
   "outputs": [
    {
     "data": {
      "text/plain": [
       "array([0.06284976, 0.13626503, 0.20959848, 0.15664163, 0.11098222,\n",
       "       0.01417382, 0.08537571, 0.19258229, 0.00506632, 0.00545431,\n",
       "       0.00326246, 0.01188232, 0.00586564])"
      ]
     },
     "execution_count": 228,
     "metadata": {},
     "output_type": "execute_result"
    }
   ],
   "source": [
    "grid_clf.best_estimator_.feature_importances_"
   ]
  },
  {
   "cell_type": "code",
   "execution_count": 229,
   "metadata": {},
   "outputs": [],
   "source": [
    "feat_names = X_final.columns.values"
   ]
  },
  {
   "cell_type": "markdown",
   "metadata": {},
   "source": [
    "#### Plotting the feature importance based on the score generated from estimator"
   ]
  },
  {
   "cell_type": "code",
   "execution_count": 230,
   "metadata": {},
   "outputs": [
    {
     "data": {
      "image/png": "[encoded data removed]",
      "text/plain": [
       "<matplotlib.figure.Figure at 0x13c5a3429e8>"
      ]
     },
     "metadata": {},
     "output_type": "display_data"
    }
   ],
   "source": [
    "importanceOfFeature = grid_clf.best_estimator_.feature_importances_\n",
    "std = np.std([tree.feature_importances_ for tree in grid_clf.best_estimator_], axis=0)\n",
    "indices = np.argsort(importanceOfFeature)[::-1][:20]\n",
    "\n",
    "plt.figure(figsize=(12,12))\n",
    "plt.title(\"Feature importances\")\n",
    "plt.bar(range(len(indices)), importanceOfFeature[indices], color=\"y\", yerr=std[indices], align=\"center\")\n",
    "plt.xticks(range(len(indices)), feat_names[indices], rotation='vertical')\n",
    "plt.xlim([-1, len(indices)])\n",
    "plt.show()"
   ]
  },
  {
   "cell_type": "markdown",
   "metadata": {},
   "source": [
    "##### Now as we have the feature importance we will put these features into a RandoForestClassifier model"
   ]
  },
  {
   "cell_type": "code",
   "execution_count": 177,
   "metadata": {},
   "outputs": [],
   "source": [
    "rdf_clf = RandomForestClassifier(n_estimators = 20,criterion = 'gini', max_features='log2')"
   ]
  },
  {
   "cell_type": "code",
   "execution_count": 178,
   "metadata": {},
   "outputs": [
    {
     "data": {
      "text/plain": [
       "RandomForestClassifier(bootstrap=True, class_weight=None, criterion='gini',\n",
       "            max_depth=None, max_features='log2', max_leaf_nodes=None,\n",
       "            min_impurity_decrease=0.0, min_impurity_split=None,\n",
       "            min_samples_leaf=1, min_samples_split=2,\n",
       "            min_weight_fraction_leaf=0.0, n_estimators=20, n_jobs=1,\n",
       "            oob_score=False, random_state=None, verbose=0,\n",
       "            warm_start=False)"
      ]
     },
     "execution_count": 178,
     "metadata": {},
     "output_type": "execute_result"
    }
   ],
   "source": [
    "rdf_clf.fit(X_final[columns], y_final)"
   ]
  },
  {
   "cell_type": "markdown",
   "metadata": {},
   "source": [
    "#### Using the trained model to do prediction on test values"
   ]
  },
  {
   "cell_type": "code",
   "execution_count": 182,
   "metadata": {},
   "outputs": [],
   "source": [
    "test_prediction = rdf_clf.predict(X_test[columns])"
   ]
  },
  {
   "cell_type": "code",
   "execution_count": 183,
   "metadata": {},
   "outputs": [],
   "source": [
    "probability = rdf_clf.predict_proba(X_test[columns])"
   ]
  },
  {
   "cell_type": "code",
   "execution_count": 184,
   "metadata": {},
   "outputs": [
    {
     "name": "stdout",
     "output_type": "stream",
     "text": [
      "             precision    recall  f1-score   support\n",
      "\n",
      "          0       0.98      0.95      0.96    543775\n",
      "          1       0.53      0.71      0.60     45393\n",
      "\n",
      "avg / total       0.94      0.93      0.93    589168\n",
      "\n"
     ]
    }
   ],
   "source": [
    "print(classification_report(y_test,test_prediction))"
   ]
  },
  {
   "cell_type": "markdown",
   "metadata": {},
   "source": [
    "#### Now we would plot the performance of our prediction using ROC, by plotting FPR(False Positive Rate) VS TPR(True Positive Rate)"
   ]
  },
  {
   "cell_type": "code",
   "execution_count": 186,
   "metadata": {},
   "outputs": [],
   "source": [
    "fpr, tpr, threshold = metrics.roc_curve(y_test, probability [:,1])"
   ]
  },
  {
   "cell_type": "code",
   "execution_count": 187,
   "metadata": {},
   "outputs": [],
   "source": [
    "roc_auc = metrics.auc(fpr, tpr)"
   ]
  },
  {
   "cell_type": "code",
   "execution_count": 188,
   "metadata": {},
   "outputs": [
    {
     "data": {
      "image/png": "[encoded data removed]",
      "text/plain": [
       "<matplotlib.figure.Figure at 0x1e6729d84e0>"
      ]
     },
     "metadata": {},
     "output_type": "display_data"
    }
   ],
   "source": [
    "plt.title('Receiver Operating Characteristic')\n",
    "plt.plot(fpr, tpr, 'b', label = 'AUC = %0.2f' % roc_auc)\n",
    "plt.legend(loc = 'lower right')\n",
    "plt.plot([0, 1], [0, 1],'r--')\n",
    "plt.xlim([0, 1])\n",
    "plt.ylim([0, 1])\n",
    "plt.ylabel('True Positive Rate')\n",
    "plt.xlabel('False Positive Rate')\n",
    "plt.show()"
   ]
  },
  {
   "cell_type": "markdown",
   "metadata": {},
   "source": [
    "##### The more the curve aligns with the top leftmost corner axis better will be our prediction"
   ]
  }
 ],
 "metadata": {
  "kernelspec": {
   "display_name": "Python 3",
   "language": "python",
   "name": "python3"
  },
  "language_info": {
   "codemirror_mode": {
    "name": "ipython",
    "version": 3
   },
   "file_extension": ".py",
   "mimetype": "text/x-python",
   "name": "python",
   "nbconvert_exporter": "python",
   "pygments_lexer": "ipython3",
   "version": "3.6.4"
  }
 },
 "nbformat": 4,
 "nbformat_minor": 2
}
